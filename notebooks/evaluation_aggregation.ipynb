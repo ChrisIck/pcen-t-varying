{
 "cells": [
  {
   "cell_type": "code",
   "execution_count": 1,
   "metadata": {},
   "outputs": [
    {
     "name": "stderr",
     "output_type": "stream",
     "text": [
      "Using TensorFlow backend.\n"
     ]
    }
   ],
   "source": [
    "import os\n",
    "import json\n",
    "import eval_milsed\n",
    "import matplotlib.pyplot as plt\n",
    "MODEL_PATH = '/beegfs/ci411/pcen/models/'"
   ]
  },
  {
   "cell_type": "code",
   "execution_count": 2,
   "metadata": {},
   "outputs": [
    {
     "name": "stdout",
     "output_type": "stream",
     "text": [
      "No results.json file for model 'model_test'\n"
     ]
    }
   ],
   "source": [
    "models = os.listdir(MODEL_PATH)\n",
    "results = {}\n",
    "for model in models:\n",
    "    path = os.path.join(MODEL_PATH, model)\n",
    "    if os.path.isdir(path):\n",
    "        try:\n",
    "            with open(os.path.join(path, 'results.json'), 'r') as fd:\n",
    "                result = json.load(fd)\n",
    "            results[model] = result\n",
    "        except FileNotFoundError:\n",
    "            print(\"No results.json file for model '{}'\".format(model))\n",
    "            results[model] = None\n"
   ]
  },
  {
   "cell_type": "code",
   "execution_count": 3,
   "metadata": {
    "collapsed": true
   },
   "outputs": [],
   "source": [
    "model_list = list(results.keys())\n",
    "model_list.sort()"
   ]
  },
  {
   "cell_type": "code",
   "execution_count": 4,
   "metadata": {},
   "outputs": [
    {
     "name": "stdout",
     "output_type": "stream",
     "text": [
      "['full_test', 'model00', 'model135', 'model13579', 'model_single_0', 'model_single_1', 'model_single_2', 'model_single_3', 'model_single_4', 'model_single_5', 'model_single_6', 'model_single_7', 'model_single_8', 'model_single_9', 'model_stack_0', 'model_stack_1', 'model_stack_2', 'model_stack_3', 'model_stack_4', 'model_stack_5', 'model_stack_6', 'model_stack_7', 'model_stack_8', 'model_stack_9', 'model_test']\n"
     ]
    }
   ],
   "source": [
    "print(model_list)"
   ]
  },
  {
   "cell_type": "code",
   "execution_count": 5,
   "metadata": {
    "collapsed": true
   },
   "outputs": [],
   "source": [
    "single_stack_models = model_list[4:-1]"
   ]
  },
  {
   "cell_type": "code",
   "execution_count": 6,
   "metadata": {},
   "outputs": [
    {
     "data": {
      "text/html": [
       "<div>\n",
       "<style scoped>\n",
       "    .dataframe tbody tr th:only-of-type {\n",
       "        vertical-align: middle;\n",
       "    }\n",
       "\n",
       "    .dataframe tbody tr th {\n",
       "        vertical-align: top;\n",
       "    }\n",
       "\n",
       "    .dataframe thead th {\n",
       "        text-align: right;\n",
       "    }\n",
       "</style>\n",
       "<table border=\"1\" class=\"dataframe\">\n",
       "  <thead>\n",
       "    <tr style=\"text-align: right;\">\n",
       "      <th></th>\n",
       "      <th>version</th>\n",
       "      <th>model</th>\n",
       "      <th>n_weights</th>\n",
       "      <th>s_f1</th>\n",
       "      <th>s_p</th>\n",
       "      <th>s_r</th>\n",
       "      <th>s_e</th>\n",
       "    </tr>\n",
       "  </thead>\n",
       "  <tbody>\n",
       "    <tr>\n",
       "      <th>0</th>\n",
       "      <td>model_single_0</td>\n",
       "      <td>cnn_l3_strong</td>\n",
       "      <td>561150</td>\n",
       "      <td>0.511399</td>\n",
       "      <td>0.544895</td>\n",
       "      <td>0.481783</td>\n",
       "      <td>0.677934</td>\n",
       "    </tr>\n",
       "    <tr>\n",
       "      <th>1</th>\n",
       "      <td>model_single_1</td>\n",
       "      <td>cnn_l3_strong</td>\n",
       "      <td>561150</td>\n",
       "      <td>0.510058</td>\n",
       "      <td>0.569442</td>\n",
       "      <td>0.461891</td>\n",
       "      <td>0.653861</td>\n",
       "    </tr>\n",
       "    <tr>\n",
       "      <th>2</th>\n",
       "      <td>model_single_2</td>\n",
       "      <td>cnn_l3_strong</td>\n",
       "      <td>561150</td>\n",
       "      <td>0.518648</td>\n",
       "      <td>0.562211</td>\n",
       "      <td>0.481351</td>\n",
       "      <td>0.674511</td>\n",
       "    </tr>\n",
       "    <tr>\n",
       "      <th>3</th>\n",
       "      <td>model_single_3</td>\n",
       "      <td>cnn_l3_strong</td>\n",
       "      <td>561150</td>\n",
       "      <td>0.50433</td>\n",
       "      <td>0.520705</td>\n",
       "      <td>0.488955</td>\n",
       "      <td>0.698187</td>\n",
       "    </tr>\n",
       "    <tr>\n",
       "      <th>4</th>\n",
       "      <td>model_single_4</td>\n",
       "      <td>cnn_l3_strong</td>\n",
       "      <td>561150</td>\n",
       "      <td>0.489462</td>\n",
       "      <td>0.56991</td>\n",
       "      <td>0.428916</td>\n",
       "      <td>0.699989</td>\n",
       "    </tr>\n",
       "    <tr>\n",
       "      <th>5</th>\n",
       "      <td>model_single_5</td>\n",
       "      <td>cnn_l3_strong</td>\n",
       "      <td>561150</td>\n",
       "      <td>0.473354</td>\n",
       "      <td>0.570275</td>\n",
       "      <td>0.404591</td>\n",
       "      <td>0.700097</td>\n",
       "    </tr>\n",
       "    <tr>\n",
       "      <th>6</th>\n",
       "      <td>model_single_6</td>\n",
       "      <td>cnn_l3_strong</td>\n",
       "      <td>561150</td>\n",
       "      <td>0.428887</td>\n",
       "      <td>0.450954</td>\n",
       "      <td>0.40888</td>\n",
       "      <td>0.849328</td>\n",
       "    </tr>\n",
       "    <tr>\n",
       "      <th>7</th>\n",
       "      <td>model_single_7</td>\n",
       "      <td>cnn_l3_strong</td>\n",
       "      <td>561150</td>\n",
       "      <td>0.489311</td>\n",
       "      <td>0.580808</td>\n",
       "      <td>0.422718</td>\n",
       "      <td>0.691124</td>\n",
       "    </tr>\n",
       "    <tr>\n",
       "      <th>8</th>\n",
       "      <td>model_single_8</td>\n",
       "      <td>cnn_l3_strong</td>\n",
       "      <td>561150</td>\n",
       "      <td>0.398217</td>\n",
       "      <td>0.385282</td>\n",
       "      <td>0.412051</td>\n",
       "      <td>0.900429</td>\n",
       "    </tr>\n",
       "    <tr>\n",
       "      <th>9</th>\n",
       "      <td>model_single_9</td>\n",
       "      <td>cnn_l3_strong</td>\n",
       "      <td>561150</td>\n",
       "      <td>0.342584</td>\n",
       "      <td>0.297408</td>\n",
       "      <td>0.403942</td>\n",
       "      <td>1.14674</td>\n",
       "    </tr>\n",
       "    <tr>\n",
       "      <th>10</th>\n",
       "      <td>model_stack_0</td>\n",
       "      <td>cnn_l3_strong</td>\n",
       "      <td>561150</td>\n",
       "      <td>0.556633</td>\n",
       "      <td>0.547636</td>\n",
       "      <td>0.56593</td>\n",
       "      <td>0.665718</td>\n",
       "    </tr>\n",
       "    <tr>\n",
       "      <th>11</th>\n",
       "      <td>model_stack_1</td>\n",
       "      <td>cnn_l3_strong</td>\n",
       "      <td>561298</td>\n",
       "      <td>0.505048</td>\n",
       "      <td>0.516681</td>\n",
       "      <td>0.493928</td>\n",
       "      <td>0.694367</td>\n",
       "    </tr>\n",
       "    <tr>\n",
       "      <th>12</th>\n",
       "      <td>model_stack_2</td>\n",
       "      <td>cnn_l3_strong</td>\n",
       "      <td>561446</td>\n",
       "      <td>0.553436</td>\n",
       "      <td>0.59266</td>\n",
       "      <td>0.519082</td>\n",
       "      <td>0.613247</td>\n",
       "    </tr>\n",
       "    <tr>\n",
       "      <th>13</th>\n",
       "      <td>model_stack_3</td>\n",
       "      <td>cnn_l3_strong</td>\n",
       "      <td>561594</td>\n",
       "      <td>0.542128</td>\n",
       "      <td>0.535124</td>\n",
       "      <td>0.549317</td>\n",
       "      <td>0.672781</td>\n",
       "    </tr>\n",
       "    <tr>\n",
       "      <th>14</th>\n",
       "      <td>model_stack_4</td>\n",
       "      <td>cnn_l3_strong</td>\n",
       "      <td>561742</td>\n",
       "      <td>0.533573</td>\n",
       "      <td>0.548937</td>\n",
       "      <td>0.519046</td>\n",
       "      <td>0.66233</td>\n",
       "    </tr>\n",
       "    <tr>\n",
       "      <th>15</th>\n",
       "      <td>model_stack_5</td>\n",
       "      <td>cnn_l3_strong</td>\n",
       "      <td>561890</td>\n",
       "      <td>0.547387</td>\n",
       "      <td>0.508214</td>\n",
       "      <td>0.593102</td>\n",
       "      <td>0.715413</td>\n",
       "    </tr>\n",
       "    <tr>\n",
       "      <th>16</th>\n",
       "      <td>model_stack_6</td>\n",
       "      <td>cnn_l3_strong</td>\n",
       "      <td>562038</td>\n",
       "      <td>0.52492</td>\n",
       "      <td>0.531345</td>\n",
       "      <td>0.518649</td>\n",
       "      <td>0.688385</td>\n",
       "    </tr>\n",
       "    <tr>\n",
       "      <th>17</th>\n",
       "      <td>model_stack_7</td>\n",
       "      <td>cnn_l3_strong</td>\n",
       "      <td>562186</td>\n",
       "      <td>0.566148</td>\n",
       "      <td>0.528229</td>\n",
       "      <td>0.609932</td>\n",
       "      <td>0.690547</td>\n",
       "    </tr>\n",
       "    <tr>\n",
       "      <th>18</th>\n",
       "      <td>model_stack_8</td>\n",
       "      <td>cnn_l3_strong</td>\n",
       "      <td>562334</td>\n",
       "      <td>0.539932</td>\n",
       "      <td>0.514077</td>\n",
       "      <td>0.568525</td>\n",
       "      <td>0.720278</td>\n",
       "    </tr>\n",
       "    <tr>\n",
       "      <th>19</th>\n",
       "      <td>model_stack_9</td>\n",
       "      <td>cnn_l3_strong</td>\n",
       "      <td>562482</td>\n",
       "      <td>0.503909</td>\n",
       "      <td>0.494841</td>\n",
       "      <td>0.513316</td>\n",
       "      <td>0.74291</td>\n",
       "    </tr>\n",
       "  </tbody>\n",
       "</table>\n",
       "</div>"
      ],
      "text/plain": [
       "           version          model n_weights      s_f1       s_p       s_r  \\\n",
       "0   model_single_0  cnn_l3_strong    561150  0.511399  0.544895  0.481783   \n",
       "1   model_single_1  cnn_l3_strong    561150  0.510058  0.569442  0.461891   \n",
       "2   model_single_2  cnn_l3_strong    561150  0.518648  0.562211  0.481351   \n",
       "3   model_single_3  cnn_l3_strong    561150   0.50433  0.520705  0.488955   \n",
       "4   model_single_4  cnn_l3_strong    561150  0.489462   0.56991  0.428916   \n",
       "5   model_single_5  cnn_l3_strong    561150  0.473354  0.570275  0.404591   \n",
       "6   model_single_6  cnn_l3_strong    561150  0.428887  0.450954   0.40888   \n",
       "7   model_single_7  cnn_l3_strong    561150  0.489311  0.580808  0.422718   \n",
       "8   model_single_8  cnn_l3_strong    561150  0.398217  0.385282  0.412051   \n",
       "9   model_single_9  cnn_l3_strong    561150  0.342584  0.297408  0.403942   \n",
       "10   model_stack_0  cnn_l3_strong    561150  0.556633  0.547636   0.56593   \n",
       "11   model_stack_1  cnn_l3_strong    561298  0.505048  0.516681  0.493928   \n",
       "12   model_stack_2  cnn_l3_strong    561446  0.553436   0.59266  0.519082   \n",
       "13   model_stack_3  cnn_l3_strong    561594  0.542128  0.535124  0.549317   \n",
       "14   model_stack_4  cnn_l3_strong    561742  0.533573  0.548937  0.519046   \n",
       "15   model_stack_5  cnn_l3_strong    561890  0.547387  0.508214  0.593102   \n",
       "16   model_stack_6  cnn_l3_strong    562038   0.52492  0.531345  0.518649   \n",
       "17   model_stack_7  cnn_l3_strong    562186  0.566148  0.528229  0.609932   \n",
       "18   model_stack_8  cnn_l3_strong    562334  0.539932  0.514077  0.568525   \n",
       "19   model_stack_9  cnn_l3_strong    562482  0.503909  0.494841  0.513316   \n",
       "\n",
       "         s_e  \n",
       "0   0.677934  \n",
       "1   0.653861  \n",
       "2   0.674511  \n",
       "3   0.698187  \n",
       "4   0.699989  \n",
       "5   0.700097  \n",
       "6   0.849328  \n",
       "7   0.691124  \n",
       "8   0.900429  \n",
       "9    1.14674  \n",
       "10  0.665718  \n",
       "11  0.694367  \n",
       "12  0.613247  \n",
       "13  0.672781  \n",
       "14   0.66233  \n",
       "15  0.715413  \n",
       "16  0.688385  \n",
       "17  0.690547  \n",
       "18  0.720278  \n",
       "19   0.74291  "
      ]
     },
     "execution_count": 6,
     "metadata": {},
     "output_type": "execute_result"
    }
   ],
   "source": [
    "eval_milsed.compare_results(MODEL_PATH, single_stack_models)"
   ]
  },
  {
   "cell_type": "code",
   "execution_count": 7,
   "metadata": {
    "collapsed": true
   },
   "outputs": [],
   "source": [
    "results_df = eval_milsed.compare_results(MODEL_PATH, single_stack_models)"
   ]
  },
  {
   "cell_type": "code",
   "execution_count": 12,
   "metadata": {},
   "outputs": [
    {
     "data": {
      "image/png": "[encoded data removed]",
      "text/plain": [
       "<matplotlib.figure.Figure at 0x2ad2d263fc18>"
      ]
     },
     "metadata": {},
     "output_type": "display_data"
    },
    {
     "data": {
      "image/png": "[encoded data removed]",
      "text/plain": [
       "<matplotlib.figure.Figure at 0x2ad2d26c5860>"
      ]
     },
     "metadata": {},
     "output_type": "display_data"
    },
    {
     "data": {
      "image/png": "[encoded data removed]",
      "text/plain": [
       "<matplotlib.figure.Figure at 0x2ad2d2a58e10>"
      ]
     },
     "metadata": {},
     "output_type": "display_data"
    },
    {
     "data": {
      "image/png": "[encoded data removed]",
      "text/plain": [
       "<matplotlib.figure.Figure at 0x2ad2d2b30630>"
      ]
     },
     "metadata": {},
     "output_type": "display_data"
    }
   ],
   "source": [
    "results_df.plot.bar(x='version', y='s_f1', title='F1 Score')\n",
    "results_df.plot.bar(x='version', y='s_p', title='Precision')\n",
    "results_df.plot.bar(x='version', y='s_r', title='Recall')\n",
    "results_df.plot.bar(x='version', y='s_e', title='Error Rate')\n",
    "plt.show()"
   ]
  }
 ],
 "metadata": {
  "kernelspec": {
   "display_name": "Python 3",
   "language": "python",
   "name": "python3"
  },
  "language_info": {
   "codemirror_mode": {
    "name": "ipython",
    "version": 3
   },
   "file_extension": ".py",
   "mimetype": "text/x-python",
   "name": "python",
   "nbconvert_exporter": "python",
   "pygments_lexer": "ipython3",
   "version": "3.6.2"
  }
 },
 "nbformat": 4,
 "nbformat_minor": 2
}
