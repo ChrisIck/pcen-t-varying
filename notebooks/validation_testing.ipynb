{
 "cells": [
  {
   "cell_type": "code",
   "execution_count": 1,
   "metadata": {},
   "outputs": [
    {
     "name": "stderr",
     "output_type": "stream",
     "text": [
      "Using TensorFlow backend.\n"
     ]
    }
   ],
   "source": [
    "import os\n",
    "import psutil\n",
    "import sys\n",
    "import numpy as np\n",
    "import matplotlib.pyplot as plt\n",
    "sys.path.append('/home/ci411/pcen-t-varying/scripts/core_scripts')\n",
    "m = __import__ ('02_train')\n",
    "try:\n",
    "    attrlist = m.__all__\n",
    "except AttributeError:\n",
    "    attrlist = dir (m)\n",
    "for attr in attrlist:\n",
    "    globals()[attr] = getattr (m, attr)"
   ]
  },
  {
   "cell_type": "code",
   "execution_count": 2,
   "metadata": {},
   "outputs": [],
   "source": [
    "params = process_arguments('')"
   ]
  },
  {
   "cell_type": "code",
   "execution_count": 8,
   "metadata": {},
   "outputs": [
    {
     "name": "stderr",
     "output_type": "stream",
     "text": [
      "100%|██████████| 6000/6000 [00:00<00:00, 31942.69it/s]\n",
      "100%|██████████| 6000/6000 [00:00<00:00, 138701.29it/s]\n"
     ]
    }
   ],
   "source": [
    "#make or clear output directory\n",
    "make_dirs(os.path.join(params.model_dir, params.modelid))\n",
    "\n",
    "#get feature paths\n",
    "train_features = []\n",
    "valid_features = []\n",
    "test_features = []\n",
    "for feature_name in ast.literal_eval(params.feature_names):\n",
    "    train_features.append(os.path.join(params.feature_dir, feature_name, 'train'))\n",
    "    valid_features.append(os.path.join(params.feature_dir, feature_name, 'validate'))\n",
    "pump = load_pump(os.path.join(params.load_pump, 'pump.pkl'))\n",
    "sampler = make_sampler(params.max_samples, params.duration, pump, params.seed)\n",
    "\n",
    "if params.slices is not None:\n",
    "    slices = ast.literal_eval(params.slices)\n",
    "else:\n",
    "    #extracting number of slices from pump and making an array if no subslices provided\n",
    "    slices = np.arange(pump['dynamic'].__dict__['fields']['dynamic/tags'].shape[1])\n",
    "\n",
    "construct_model = MODELS[params.modelname]\n",
    "\n",
    "input_layer = Input(name='PCEN/mag',  shape=(None, params.n_mels, len(slices)),\\\n",
    "                          dtype='float32')    \n",
    "model, inputs, outputs = construct_model(input_layer, pump)    \n",
    "\n",
    "gen_train = data_generator(train_features, sampler, params.train_streamers,\\\n",
    "                       params.rate, random_state=params.seed, slices=slices)\n",
    "\n",
    "#memory leak test\n",
    "gen_val = data_generator(train_features, sampler, params.train_streamers,\\\n",
    "                       params.rate, random_state=params.seed, slices=slices)\n",
    "\n",
    "#gen_val = data_generator_val(train_features, sampler, random_state=params.seed, slices=slices)\n",
    "\n",
    "output_vars = 'dynamic/tags'\n",
    "\n",
    "#create data generators\n",
    "gen_train = keras_tuples(gen_train(), inputs=inputs, outputs=output_vars)\n",
    "\n",
    "gen_val = keras_tuples(gen_val(), inputs=inputs, outputs=output_vars)\n",
    "\n",
    "#val_data = draw_validation_data(valid_features, sampler, params.validation_size, slices=slices)\n",
    "\n",
    "#print(\"Val Data Shape: {},{}\".format(val_data[0].shape, val_data[1].shape))\n",
    "\n",
    "loss = {output_vars: 'binary_crossentropy'}\n",
    "metrics = {output_vars: 'accuracy'}\n",
    "monitor = 'val_{}_acc'.format(output_vars)\n",
    "\n",
    "gen_train_label = label_transformer_generator(gen_train)\n",
    "gen_val_label = label_transformer_generator(gen_val)\n"
   ]
  },
  {
   "cell_type": "code",
   "execution_count": 9,
   "metadata": {},
   "outputs": [
    {
     "name": "stdout",
     "output_type": "stream",
     "text": [
      "Memory Utilization: 1239.75Mb\r"
     ]
    }
   ],
   "source": [
    "process = psutil.Process(os.getpid())\n",
    "train_memory = []\n",
    "while(len(train_memory)<1e4):\n",
    "    gen_train_label.__next__()\n",
    "    train_memory.append(process.memory_info().rss)\n",
    "    sys.stdout.write(\"Memory Utilization: {:.2f}Mb\\r\".format(process.memory_info().rss*1e-6))\n",
    "    sys.stdout.flush()\n",
    "    "
   ]
  },
  {
   "cell_type": "code",
   "execution_count": 10,
   "metadata": {},
   "outputs": [
    {
     "data": {
      "text/plain": [
       "<matplotlib.text.Text at 0x2b23e03596a0>"
      ]
     },
     "execution_count": 10,
     "metadata": {},
     "output_type": "execute_result"
    },
    {
     "data": {
      "image/png": "[encoded data removed]",
      "text/plain": [
       "<matplotlib.figure.Figure at 0x2b23e03889b0>"
      ]
     },
     "metadata": {
      "needs_background": "light"
     },
     "output_type": "display_data"
    }
   ],
   "source": [
    "plt.plot(np.arange(len(train_memory)), train_memory)\n",
    "plt.title(\"Memory Utilization of StochasticMux over 1000 Calls (bytes)\")"
   ]
  },
  {
   "cell_type": "code",
   "execution_count": 11,
   "metadata": {},
   "outputs": [
    {
     "name": "stdout",
     "output_type": "stream",
     "text": [
      "Memory Utilization: 1442.41Mb\r"
     ]
    },
    {
     "ename": "KeyboardInterrupt",
     "evalue": "",
     "output_type": "error",
     "traceback": [
      "\u001b[0;31m---------------------------------------------------------------------------\u001b[0m",
      "\u001b[0;31mKeyboardInterrupt\u001b[0m                         Traceback (most recent call last)",
      "\u001b[0;32m~/pcen-t-varying/scripts/core_scripts/02_train.py\u001b[0m in \u001b[0;36m<module>\u001b[0;34m\u001b[0m\n\u001b[1;32m      2\u001b[0m \u001b[0mval_memory\u001b[0m \u001b[0;34m=\u001b[0m \u001b[0;34m[\u001b[0m\u001b[0;34m]\u001b[0m\u001b[0;34m\u001b[0m\u001b[0m\n\u001b[1;32m      3\u001b[0m \u001b[0;32mwhile\u001b[0m\u001b[0;34m(\u001b[0m\u001b[0mlen\u001b[0m\u001b[0;34m(\u001b[0m\u001b[0mval_memory\u001b[0m\u001b[0;34m)\u001b[0m\u001b[0;34m<\u001b[0m\u001b[0;36m1e4\u001b[0m\u001b[0;34m)\u001b[0m\u001b[0;34m:\u001b[0m\u001b[0;34m\u001b[0m\u001b[0m\n\u001b[0;32m----> 4\u001b[0;31m     \u001b[0mgen_val_label\u001b[0m\u001b[0;34m.\u001b[0m\u001b[0m__next__\u001b[0m\u001b[0;34m(\u001b[0m\u001b[0;34m)\u001b[0m\u001b[0;34m\u001b[0m\u001b[0m\n\u001b[0m\u001b[1;32m      5\u001b[0m     \u001b[0mval_memory\u001b[0m\u001b[0;34m.\u001b[0m\u001b[0mappend\u001b[0m\u001b[0;34m(\u001b[0m\u001b[0mprocess\u001b[0m\u001b[0;34m.\u001b[0m\u001b[0mmemory_info\u001b[0m\u001b[0;34m(\u001b[0m\u001b[0;34m)\u001b[0m\u001b[0;34m.\u001b[0m\u001b[0mrss\u001b[0m\u001b[0;34m)\u001b[0m\u001b[0;34m\u001b[0m\u001b[0m\n\u001b[1;32m      6\u001b[0m     \u001b[0msys\u001b[0m\u001b[0;34m.\u001b[0m\u001b[0mstdout\u001b[0m\u001b[0;34m.\u001b[0m\u001b[0mwrite\u001b[0m\u001b[0;34m(\u001b[0m\u001b[0;34m\"Memory Utilization: {:.2f}Mb\\r\"\u001b[0m\u001b[0;34m.\u001b[0m\u001b[0mformat\u001b[0m\u001b[0;34m(\u001b[0m\u001b[0mprocess\u001b[0m\u001b[0;34m.\u001b[0m\u001b[0mmemory_info\u001b[0m\u001b[0;34m(\u001b[0m\u001b[0;34m)\u001b[0m\u001b[0;34m.\u001b[0m\u001b[0mrss\u001b[0m\u001b[0;34m*\u001b[0m\u001b[0;36m1e-6\u001b[0m\u001b[0;34m)\u001b[0m\u001b[0;34m)\u001b[0m\u001b[0;34m\u001b[0m\u001b[0m\n",
      "\u001b[0;32m~/pcen-t-varying/scripts/core_scripts/02_train.py\u001b[0m in \u001b[0;36mlabel_transformer_generator\u001b[0;34m(generator)\u001b[0m\n\u001b[1;32m    149\u001b[0m     \u001b[0;32mfor\u001b[0m \u001b[0mdata\u001b[0m \u001b[0;32min\u001b[0m \u001b[0mgenerator\u001b[0m\u001b[0;34m:\u001b[0m\u001b[0;34m\u001b[0m\u001b[0m\n\u001b[1;32m    150\u001b[0m         \u001b[0mfeatures\u001b[0m\u001b[0;34m,\u001b[0m \u001b[0mlabels\u001b[0m \u001b[0;34m=\u001b[0m \u001b[0mdata\u001b[0m\u001b[0;34m\u001b[0m\u001b[0m\n\u001b[0;32m--> 151\u001b[0;31m         \u001b[0;32myield\u001b[0m \u001b[0;34m(\u001b[0m\u001b[0mfeatures\u001b[0m\u001b[0;34m,\u001b[0m \u001b[0mmax_pool\u001b[0m\u001b[0;34m(\u001b[0m\u001b[0mlabels\u001b[0m\u001b[0;34m[\u001b[0m\u001b[0;36m0\u001b[0m\u001b[0;34m]\u001b[0m\u001b[0;34m)\u001b[0m\u001b[0;34m)\u001b[0m\u001b[0;34m\u001b[0m\u001b[0m\n\u001b[0m\u001b[1;32m    152\u001b[0m \u001b[0;34m\u001b[0m\u001b[0m\n\u001b[1;32m    153\u001b[0m \u001b[0;34m\u001b[0m\u001b[0m\n",
      "\u001b[0;32m~/pcen-t-varying/pcen_t/utils.py\u001b[0m in \u001b[0;36mmax_pool\u001b[0;34m(data, N)\u001b[0m\n\u001b[1;32m    126\u001b[0m         \u001b[0;32mfor\u001b[0m \u001b[0mi\u001b[0m \u001b[0;32min\u001b[0m \u001b[0mrange\u001b[0m\u001b[0;34m(\u001b[0m\u001b[0;34m(\u001b[0m\u001b[0mN_data\u001b[0m\u001b[0;34m//\u001b[0m\u001b[0;36m2\u001b[0m\u001b[0;34m)\u001b[0m\u001b[0;34m)\u001b[0m\u001b[0;34m:\u001b[0m\u001b[0;34m\u001b[0m\u001b[0m\n\u001b[1;32m    127\u001b[0m             \u001b[0;32mfor\u001b[0m \u001b[0mj\u001b[0m \u001b[0;32min\u001b[0m \u001b[0mrange\u001b[0m\u001b[0;34m(\u001b[0m\u001b[0mn_channels\u001b[0m\u001b[0;34m)\u001b[0m\u001b[0;34m:\u001b[0m\u001b[0;34m\u001b[0m\u001b[0m\n\u001b[0;32m--> 128\u001b[0;31m                 \u001b[0mnew_data\u001b[0m\u001b[0;34m[\u001b[0m\u001b[0mi\u001b[0m\u001b[0;34m,\u001b[0m\u001b[0mj\u001b[0m\u001b[0;34m]\u001b[0m \u001b[0;34m=\u001b[0m \u001b[0mmax\u001b[0m\u001b[0;34m(\u001b[0m\u001b[0mdata\u001b[0m\u001b[0;34m[\u001b[0m\u001b[0;36m2\u001b[0m\u001b[0;34m*\u001b[0m\u001b[0mi\u001b[0m\u001b[0;34m,\u001b[0m\u001b[0mj\u001b[0m\u001b[0;34m]\u001b[0m\u001b[0;34m,\u001b[0m \u001b[0mdata\u001b[0m\u001b[0;34m[\u001b[0m\u001b[0;34m(\u001b[0m\u001b[0;36m2\u001b[0m\u001b[0;34m*\u001b[0m\u001b[0mi\u001b[0m\u001b[0;34m)\u001b[0m\u001b[0;34m+\u001b[0m\u001b[0;36m1\u001b[0m\u001b[0;34m,\u001b[0m\u001b[0mj\u001b[0m\u001b[0;34m]\u001b[0m\u001b[0;34m)\u001b[0m\u001b[0;34m\u001b[0m\u001b[0m\n\u001b[0m\u001b[1;32m    129\u001b[0m         \u001b[0mdata\u001b[0m \u001b[0;34m=\u001b[0m \u001b[0mnew_data\u001b[0m\u001b[0;34m\u001b[0m\u001b[0m\n\u001b[1;32m    130\u001b[0m     \u001b[0;32mreturn\u001b[0m \u001b[0mnp\u001b[0m\u001b[0;34m.\u001b[0m\u001b[0marray\u001b[0m\u001b[0;34m(\u001b[0m\u001b[0;34m[\u001b[0m\u001b[0mdata\u001b[0m\u001b[0;34m]\u001b[0m\u001b[0;34m)\u001b[0m\u001b[0;34m\u001b[0m\u001b[0m\n",
      "\u001b[0;31mKeyboardInterrupt\u001b[0m: "
     ]
    }
   ],
   "source": [
    "process = psutil.Process(os.getpid())\n",
    "val_memory = []\n",
    "while(len(val_memory)<1e4):\n",
    "    gen_val_label.__next__()\n",
    "    val_memory.append(process.memory_info().rss)\n",
    "    sys.stdout.write(\"Memory Utilization: {:.2f}Mb\\r\".format(process.memory_info().rss*1e-6))\n",
    "    sys.stdout.flush()\n",
    "    "
   ]
  },
  {
   "cell_type": "code",
   "execution_count": null,
   "metadata": {},
   "outputs": [],
   "source": [
    "plt.plot(np.arange(len(val_memory)), val_memory)\n",
    "plt.title(\"Memory Utilization of RoundRobinMux over 1000 Calls (bytes)\")"
   ]
  },
  {
   "cell_type": "code",
   "execution_count": 13,
   "metadata": {},
   "outputs": [],
   "source": [
    "@pescador.streamable\n",
    "def data_sampler(fname, sampler, slices):\n",
    "    '''Generate samples from a specified h5 file'''\n",
    "    data_dict = load_h5(fname)\n",
    "    if slices is not None:\n",
    "        data = data_dict['PCEN/mag']\n",
    "        data_sliced = data[:,:,:,slices]\n",
    "        data_dict['PCEN/mag'] = data_sliced\n",
    "    file_sampler = sampler(data_dict)\n",
    "    for datum in file_sampler:\n",
    "        yield datum"
   ]
  },
  {
   "cell_type": "code",
   "execution_count": null,
   "metadata": {},
   "outputs": [],
   "source": []
  }
 ],
 "metadata": {
  "kernelspec": {
   "display_name": "Python 3",
   "language": "python",
   "name": "python3"
  },
  "language_info": {
   "codemirror_mode": {
    "name": "ipython",
    "version": 3
   },
   "file_extension": ".py",
   "mimetype": "text/x-python",
   "name": "python",
   "nbconvert_exporter": "python",
   "pygments_lexer": "ipython3",
   "version": "3.6.2"
  }
 },
 "nbformat": 4,
 "nbformat_minor": 4
}
