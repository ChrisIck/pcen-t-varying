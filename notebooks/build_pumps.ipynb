{
 "cells": [
  {
   "cell_type": "code",
   "execution_count": 1,
   "metadata": {},
   "outputs": [],
   "source": [
    "import os\n",
    "import sys\n",
    "import argparse\n",
    "import pumpp\n",
    "import shutil\n",
    "import pickle\n",
    "import librosa as lr\n",
    "import glob\n",
    "\n",
    "from joblib import Parallel, delayed\n",
    "from pumpp.feature import Mel\n",
    "\n",
    "sys.path.append('/home/ci411/pcen-t-varying/')\n",
    "from pcen_t.utils import *\n",
    "from pcen_t.pcen_pump import *\n",
    "\n",
    "URBANSED_CLASSES = ['air_conditioner',\n",
    "                    'car_horn',\n",
    "                    'children_playing',\n",
    "                    'dog_bark',\n",
    "                    'drilling',\n",
    "                    'engine_idling',\n",
    "                    'gun_shot',\n",
    "                    'jackhammer',\n",
    "                    'siren',\n",
    "                    'street_music']"
   ]
  },
  {
   "cell_type": "code",
   "execution_count": 2,
   "metadata": {},
   "outputs": [],
   "source": [
    "%load_ext autoreload"
   ]
  },
  {
   "cell_type": "code",
   "execution_count": 3,
   "metadata": {},
   "outputs": [],
   "source": [
    "%autoreload"
   ]
  },
  {
   "cell_type": "code",
   "execution_count": 2,
   "metadata": {},
   "outputs": [],
   "source": [
    "def build_pump(sr, hop_length, n_fft, n_mels, n_t_constants=10, save_pump=None):\n",
    "    pcen_t = PCEN_T(name='PCEN', sr=sr, n_fft=n_fft, hop_length=hop_length,\\\n",
    "                    n_t_constants=n_t_constants, n_mels=n_mels)\n",
    "    \n",
    "    p_tag = pumpp.task.StaticLabelTransformer(name='static',\n",
    "                                              namespace='tag_open',\n",
    "                                              labels=URBANSED_CLASSES)\n",
    "\n",
    "    p_dtag = pumpp.task.DynamicLabelTransformer(name='dynamic',\n",
    "                                                namespace='tag_open',\n",
    "                                                labels=URBANSED_CLASSES,\n",
    "                                                sr=sr,\n",
    "                                                hop_length=hop_length)\n",
    "    pump = pumpp.Pump(pcen_t, p_tag, p_dtag)\n",
    "    \n",
    "    if save_pump is not None:\n",
    "        with open(os.path.join(save_pump, 'pump.pkl'), 'wb') as fd:\n",
    "            pickle.dump(pump, fd)\n",
    "\n",
    "    return pump"
   ]
  },
  {
   "cell_type": "code",
   "execution_count": 3,
   "metadata": {},
   "outputs": [],
   "source": [
    "def build_pump_mel(sr, hop_length, n_fft, n_mels, save_pump=None):\n",
    "    mel = Mel(name='Mel', sr=sr, hop_length=hop_length,\\\n",
    "                 n_fft=n_fft, n_mels=n_mels, log=True)\n",
    "    \n",
    "    p_tag = pumpp.task.StaticLabelTransformer(name='static',\n",
    "                                              namespace='tag_open',\n",
    "                                              labels=URBANSED_CLASSES)\n",
    "\n",
    "    p_dtag = pumpp.task.DynamicLabelTransformer(name='dynamic',\n",
    "                                                namespace='tag_open',\n",
    "                                                labels=URBANSED_CLASSES,\n",
    "                                                sr=sr,\n",
    "                                                hop_length=hop_length)\n",
    "    pump = pumpp.Pump(mel, p_tag, p_dtag)\n",
    "    \n",
    "    if save_pump is not None:\n",
    "        with open(os.path.join(save_pump, 'pump.pkl'), 'wb') as fd:\n",
    "            pickle.dump(pump, fd)\n",
    "\n",
    "    return pump"
   ]
  },
  {
   "cell_type": "code",
   "execution_count": 6,
   "metadata": {},
   "outputs": [],
   "source": [
    "sr = 22050 #44100 in autopool\n",
    "hop_length = 1024\n",
    "n_fft = 1024 #2048 in autopool\n",
    "n_mels = 128\n",
    "\n",
    "save_pump_pcen = '/scratch/ci411/pcen/pumps/pcen/'\n",
    "save_pump_mel = '/scratch/ci411/pcen/pumps/mel/'"
   ]
  },
  {
   "cell_type": "code",
   "execution_count": 9,
   "metadata": {},
   "outputs": [],
   "source": [
    "pcen_pump = build_pump(sr, hop_length, n_fft, n_mels, n_t_constants=10, save_pump=save_pump_pcen)\n",
    "mel_pump = build_pump_mel(sr, hop_length, n_fft, n_mels,  save_pump=save_pump_mel)\n"
   ]
  },
  {
   "cell_type": "code",
   "execution_count": 12,
   "metadata": {},
   "outputs": [
    {
     "data": {
      "text/plain": [
       "[]"
      ]
     },
     "execution_count": 12,
     "metadata": {},
     "output_type": "execute_result"
    }
   ],
   "source": [
    "audio_path = '/scratch/ci411/pcen/reverb_pitch_URBAN-SED/audio'\n",
    "jams_path = '/scratch/ci411/pcen/reverb_pitch_URBAN-SED/annotations'\n",
    "\n",
    "audio_files = glob.glob(os.path.join(audio_path, 'validate/*.wav'))\n",
    "audio_files"
   ]
  },
  {
   "cell_type": "code",
   "execution_count": null,
   "metadata": {},
   "outputs": [
    {
     "name": "stdout",
     "output_type": "stream",
     "text": [
      "327 329 False -2\n",
      "322 324 False -2\n",
      "322 324 False -2\n",
      "327 329 False -2\n",
      "229 231 False -2\n",
      "327 329 False -2\n",
      "322 324 False -2\n",
      "322 324 False -2\n",
      "229 231 False -2\n",
      "215 217 False -2\n",
      "322 324 False -2\n",
      "327 329 False -2\n",
      "322 324 False -2\n",
      "322 324 False -2\n",
      "322 324 False -2\n",
      "327 329 False -2\n",
      "223 225 False -2\n",
      "229 231 False -2\n",
      "223 225 False -2\n",
      "322 324 False -2\n",
      "229 231 False -2\n",
      "322 324 False -2\n",
      "223 225 False -2\n",
      "322 324 False -2\n",
      "229 231 False -2\n",
      "322 324 False -2\n",
      "223 225 False -2\n",
      "322 324 False -2\n",
      "215 217 False -2\n",
      "327 329 False -2\n",
      "322 324 False -2\n",
      "223 225 False -2\n",
      "223 225 False -2\n",
      "322 324 False -2\n",
      "327 329 False -2\n",
      "322 324 False -2\n",
      "215 217 False -2\n",
      "322 324 False -2\n",
      "229 231 False -2\n",
      "322 324 False -2\n",
      "322 324 False -2\n",
      "223 225 False -2\n",
      "322 324 False -2\n",
      "322 324 False -2\n",
      "223 225 False -2\n",
      "229 231 False -2\n",
      "322 324 False -2\n",
      "215 217 False -2\n",
      "229 231 False -2\n",
      "327 329 False -2\n",
      "223 225 False -2\n",
      "322 324 False -2\n",
      "327 329 False -2\n",
      "229 231 False -2\n",
      "322 324 False -2\n"
     ]
    }
   ],
   "source": [
    "for _ in range(100):\n",
    "    file = np.random.choice(audio_files)\n",
    "    test_file = file.split('/')[-1].split('.')[0]\n",
    "    test_audio = os.path.join(audio_path, 'validate', test_file + '.wav')\n",
    "    test_jams = os.path.join(jams_path, 'validate', test_file + '.jams')\n",
    "    y, sr = lr.load(test_audio)\n",
    "\n",
    "    mel_data = mel_pump.transform(test_audio, test_jams)\n",
    "    pcen_data = pcen_pump.transform(test_audio, test_jams)\n",
    "    print(mel_data['Mel/mag'].shape[1], pcen_data['PCEN/mag'].shape[1], mel_data['Mel/mag'].shape[1]==pcen_data['PCEN/mag'].shape[1], mel_data['Mel/mag'].shape[1]-pcen_data['PCEN/mag'].shape[1])\n",
    "    #assert mel_data['Mel/mag'].shape[1]==pcen_data['PCEN/mag'].shape[1]"
   ]
  },
  {
   "cell_type": "code",
   "execution_count": null,
   "metadata": {},
   "outputs": [],
   "source": [
    "test_file = 'soundscape_validate_bimodal662'\n",
    "semitone = '0'\n",
    "test_audio = os.path.join(audio_path, 'validate', test_file + '_{}.wav'.format(semitone))\n",
    "test_jams = os.path.join(jams_path, 'validate', test_file + '_{}.jams'.format(semitone))\n",
    "y, sr = lr.load(test_audio)\n",
    "\n",
    "mel_data = mel_pump.transform(test_audio, test_jams)\n",
    "\n",
    "pcen_data = pcen_pump.transform(test_audio, test_jams)\n",
    "\n",
    "assert mel_data['Mel/mag'].shape[1]==pcen_data['PCEN/mag'].shape[1]"
   ]
  },
  {
   "cell_type": "code",
   "execution_count": null,
   "metadata": {},
   "outputs": [],
   "source": [
    "from librosa.display import specshow\n",
    "specshow(pcen_data['PCEN/mag'][0,:,:,2].T)"
   ]
  },
  {
   "cell_type": "code",
   "execution_count": null,
   "metadata": {},
   "outputs": [],
   "source": []
  }
 ],
 "metadata": {
  "kernelspec": {
   "display_name": "Python 3",
   "language": "python",
   "name": "python3"
  },
  "language_info": {
   "codemirror_mode": {
    "name": "ipython",
    "version": 3
   },
   "file_extension": ".py",
   "mimetype": "text/x-python",
   "name": "python",
   "nbconvert_exporter": "python",
   "pygments_lexer": "ipython3",
   "version": "3.8.2"
  }
 },
 "nbformat": 4,
 "nbformat_minor": 4
}
