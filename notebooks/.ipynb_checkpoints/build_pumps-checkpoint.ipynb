{
 "cells": [
  {
   "cell_type": "code",
   "execution_count": 4,
   "metadata": {},
   "outputs": [],
   "source": [
    "import os\n",
    "import sys\n",
    "import argparse\n",
    "import pumpp\n",
    "import shutil\n",
    "import pickle\n",
    "from joblib import Parallel, delayed\n",
    "from pumpp.feature import Mel\n",
    "\n",
    "sys.path.append('/home/ci411/pcen-t-varying/')\n",
    "from pcen_t.utils import *\n",
    "from pcen_t.pcen_pump import *\n",
    "\n",
    "URBANSED_CLASSES = ['air_conditioner',\n",
    "                    'car_horn',\n",
    "                    'children_playing',\n",
    "                    'dog_bark',\n",
    "                    'drilling',\n",
    "                    'engine_idling',\n",
    "                    'gun_shot',\n",
    "                    'jackhammer',\n",
    "                    'siren',\n",
    "                    'street_music']"
   ]
  },
  {
   "cell_type": "code",
   "execution_count": 5,
   "metadata": {},
   "outputs": [],
   "source": [
    "def build_pump(sr, hop_length, n_fft, n_mels, n_t_constants=10, save_pump=None):\n",
    "    pcen_t = PCEN_T(name='PCEN', sr=sr, hop_length=hop_length, n_t_constants=n_t_constants, n_mels=n_mels)\n",
    "    \n",
    "    p_tag = pumpp.task.StaticLabelTransformer(name='static',\n",
    "                                              namespace='tag_open',\n",
    "                                              labels=URBANSED_CLASSES)\n",
    "\n",
    "    p_dtag = pumpp.task.DynamicLabelTransformer(name='dynamic',\n",
    "                                                namespace='tag_open',\n",
    "                                                labels=URBANSED_CLASSES,\n",
    "                                                sr=sr,\n",
    "                                                hop_length=hop_length)\n",
    "    pump = pumpp.Pump(pcen_t, p_tag, p_dtag)\n",
    "    \n",
    "    if save_pump is not None:\n",
    "        with open(os.path.join(save_pump, 'pump.pkl'), 'wb') as fd:\n",
    "            pickle.dump(pump, fd)\n",
    "\n",
    "    return pump"
   ]
  },
  {
   "cell_type": "code",
   "execution_count": 15,
   "metadata": {},
   "outputs": [],
   "source": [
    "def build_pump_mel(sr, hop_length, n_fft, n_mels, save_pump=None):\n",
    "    #leaving the name as PCEN so I don't need to change downstream code\n",
    "    pcen_t = Mel(name='Mel', sr=sr, hop_length=hop_length,\\\n",
    "                 n_fft=n_fft, n_mels=n_mels)\n",
    "    \n",
    "    p_tag = pumpp.task.StaticLabelTransformer(name='static',\n",
    "                                              namespace='tag_open',\n",
    "                                              labels=URBANSED_CLASSES)\n",
    "\n",
    "    p_dtag = pumpp.task.DynamicLabelTransformer(name='dynamic',\n",
    "                                                namespace='tag_open',\n",
    "                                                labels=URBANSED_CLASSES,\n",
    "                                                sr=sr,\n",
    "                                                hop_length=hop_length)\n",
    "    pump = pumpp.Pump(pcen_t, p_tag, p_dtag)\n",
    "    \n",
    "    if save_pump is not None:\n",
    "        with open(os.path.join(save_pump, 'pump.pkl'), 'wb') as fd:\n",
    "            pickle.dump(pump, fd)\n",
    "\n",
    "    return pump"
   ]
  },
  {
   "cell_type": "code",
   "execution_count": 16,
   "metadata": {},
   "outputs": [],
   "source": [
    "sr = 22050\n",
    "hop_length = 1024\n",
    "n_fft = 1024\n",
    "n_mels = 128\n",
    "\n",
    "save_pump_pcen = '/beegfs/ci411/pcen/pumps/pcen/'\n",
    "save_pump_mel = '/beegfs/ci411/pcen/pumps/mel/'"
   ]
  },
  {
   "cell_type": "code",
   "execution_count": 17,
   "metadata": {},
   "outputs": [],
   "source": [
    "pcen_pump = build_pump(sr, hop_length, n_fft, n_mels, n_t_constants=10, save_pump=save_pump_pcen)\n",
    "mel_pump = build_pump_mel(sr, hop_length, n_fft, n_mels,  save_pump=save_pump_mel)\n"
   ]
  },
  {
   "cell_type": "code",
   "execution_count": 18,
   "metadata": {},
   "outputs": [
    {
     "data": {
      "text/html": [
       "<dl class=\"row\">\n",
       "  <dt class=\"col-sm-3\">Mel</dt>\n",
       "  <dd class=\"col-sm-9\"><pumpp.feature.mel.Mel object at 0x2ada919c3df0><ul>\n",
       "  <li>Mel/mag [shape=(None, 128), dtype=dtype('float32')]</li></ul></dd>\n",
       "  <dt class=\"col-sm-3\">static</dt>\n",
       "  <dd class=\"col-sm-9\"><pumpp.task.tags.StaticLabelTransformer object at 0x2ada919c3a90><ul>\n",
       "  <li>static/tags [shape=(10,), dtype=<class 'bool'>]</li></ul></dd>\n",
       "  <dt class=\"col-sm-3\">dynamic</dt>\n",
       "  <dd class=\"col-sm-9\"><pumpp.task.tags.DynamicLabelTransformer object at 0x2ada919c3520><ul>\n",
       "  <li>dynamic/tags [shape=(None, 10), dtype=<class 'bool'>]</li></ul></dd></dl>"
      ],
      "text/plain": [
       "<pumpp.core.Pump at 0x2ada4aba1f70>"
      ]
     },
     "execution_count": 18,
     "metadata": {},
     "output_type": "execute_result"
    }
   ],
   "source": [
    "mel_pump"
   ]
  },
  {
   "cell_type": "code",
   "execution_count": 26,
   "metadata": {},
   "outputs": [
    {
     "data": {
      "text/plain": [
       "'Mel/mag'"
      ]
     },
     "execution_count": 26,
     "metadata": {},
     "output_type": "execute_result"
    }
   ],
   "source": [
    "list(mel_pump.fields.keys())[0]"
   ]
  }
 ],
 "metadata": {
  "kernelspec": {
   "display_name": "Python 3",
   "language": "python",
   "name": "python3"
  },
  "language_info": {
   "codemirror_mode": {
    "name": "ipython",
    "version": 3
   },
   "file_extension": ".py",
   "mimetype": "text/x-python",
   "name": "python",
   "nbconvert_exporter": "python",
   "pygments_lexer": "ipython3",
   "version": "3.8.2"
  }
 },
 "nbformat": 4,
 "nbformat_minor": 4
}
