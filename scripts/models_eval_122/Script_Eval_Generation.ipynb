{
 "cells": [
  {
   "cell_type": "code",
   "execution_count": 1,
   "metadata": {
    "collapsed": true
   },
   "outputs": [],
   "source": [
    "import numpy as np\n",
    "import os"
   ]
  },
  {
   "cell_type": "code",
   "execution_count": 11,
   "metadata": {
    "collapsed": true
   },
   "outputs": [],
   "source": [
    "base_script = \"\"\"#!/bin/bash\n",
    "\n",
    "#SBATCH --job-name={}\n",
    "#SBATCH --nodes=1\n",
    "#SBATCH --cpus-per-task=4\n",
    "#SBATCH --mem=16GB\n",
    "#SBATCH --time=100:00:00\n",
    "#SBATCH --mail-user=chris.ick@nyu.edu\n",
    "#SBATCH --output=\"o{}-%j.out\"\n",
    "\n",
    "module purge\n",
    "module load anaconda3/4.3.1\n",
    "module load sox/intel/14.4.2\n",
    "module load ffmpeg/intel/3.2.2\n",
    "module load cuda/10.1.105\n",
    "module load cudnn/10.0v7.6.2.24\n",
    "\n",
    "source activate py3.5\n",
    "\n",
    "SLICES='{}'\n",
    "MODELNAME='{}'\n",
    "\n",
    "cd /home/ci411/pcen-t-varying/scripts/core_scripts\n",
    "\n",
    "python 03_evaluate.py --slices=$SLICES --model-id=$MODELNAME --model-dir='/beegfs/ci411/pcen/models/models_122' --feature-dir='/beegfs/ci411/pcen/features/' --results-name='results_dry'\"\"\""
   ]
  },
  {
   "cell_type": "code",
   "execution_count": 29,
   "metadata": {},
   "outputs": [],
   "source": [
    "model_dir = '/beegfs/ci411/pcen/models/models_122'\n",
    "\n",
    "models = [item for item in os.listdir(model_dir) if \"model122\" in item]\n",
    "\n",
    "slices_list = [str([int(single_slice) for single_slice in slices.split('_')[2]]).replace(' ','') for slices in models]"
   ]
  },
  {
   "cell_type": "code",
   "execution_count": 30,
   "metadata": {},
   "outputs": [
    {
     "data": {
      "text/plain": [
       "['[0,1,2]',\n",
       " '[2,3,4,5,6,7]',\n",
       " '[0,1,2,3]',\n",
       " '[0,1,2]',\n",
       " '[0,1]',\n",
       " '[0,1,2,3,4,5,6,7]',\n",
       " '[0]',\n",
       " '[0,1,2,3]',\n",
       " '[2,3,4,5,6,7]',\n",
       " '[0,1,2,3,4,5,6]',\n",
       " '[0,1,2,3,4,5,6,7,8]',\n",
       " '[4,5]',\n",
       " '[0,1,2,3,4,5,6,7,8]',\n",
       " '[4,5]',\n",
       " '[0]',\n",
       " '[0,1,2,3,4,5]',\n",
       " '[0,1]',\n",
       " '[1,2,3,4,5,6,7,8]',\n",
       " '[0,1,2,3,4,5,6,7]',\n",
       " '[0,1,2,3,4,5]',\n",
       " '[0,1,2,3,4]',\n",
       " '[0,1,2,3,4,5,6,7,8,9]',\n",
       " '[1,2,3,4,5,6,7,8]',\n",
       " '[3,4,5,6]',\n",
       " '[0,1,2,3,4]',\n",
       " '[3,4,5,6]',\n",
       " '[0,1,2,3,4,5,6]',\n",
       " '[0,1,2,3,4,5,6,7,8,9]']"
      ]
     },
     "execution_count": 30,
     "metadata": {},
     "output_type": "execute_result"
    }
   ],
   "source": [
    "slices_list"
   ]
  },
  {
   "cell_type": "code",
   "execution_count": 34,
   "metadata": {},
   "outputs": [],
   "source": [
    "model_names = [model.split('_')[1]+model.split('_')[2] for model in models]"
   ]
  },
  {
   "cell_type": "code",
   "execution_count": 35,
   "metadata": {},
   "outputs": [
    {
     "data": {
      "text/plain": [
       "['dry012',\n",
       " 'wet234567',\n",
       " 'dry0123',\n",
       " 'wet012',\n",
       " 'dry01',\n",
       " 'wet01234567',\n",
       " 'wet0',\n",
       " 'wet0123',\n",
       " 'dry234567',\n",
       " 'wet0123456',\n",
       " 'dry012345678',\n",
       " 'dry45',\n",
       " 'wet012345678',\n",
       " 'wet45',\n",
       " 'dry0',\n",
       " 'dry012345',\n",
       " 'wet01',\n",
       " 'wet12345678',\n",
       " 'dry01234567',\n",
       " 'wet012345',\n",
       " 'dry01234',\n",
       " 'wet0123456789',\n",
       " 'dry12345678',\n",
       " 'wet3456',\n",
       " 'wet01234',\n",
       " 'dry3456',\n",
       " 'dry0123456',\n",
       " 'dry0123456789']"
      ]
     },
     "execution_count": 35,
     "metadata": {},
     "output_type": "execute_result"
    }
   ],
   "source": [
    "model_names"
   ]
  },
  {
   "cell_type": "code",
   "execution_count": 38,
   "metadata": {},
   "outputs": [
    {
     "data": {
      "text/plain": [
       "'#!/bin/bash\\n\\n#SBATCH --job-name=name\\n#SBATCH --nodes=1\\n#SBATCH --cpus-per-task=4\\n#SBATCH --mem=16GB\\n#SBATCH --time=100:00:00\\n#SBATCH --mail-user=chris.ick@nyu.edu\\n#SBATCH --output=\"oname-%j.out\"\\n\\nmodule purge\\nmodule load anaconda3/4.3.1\\nmodule load sox/intel/14.4.2\\nmodule load ffmpeg/intel/3.2.2\\nmodule load cuda/10.1.105\\nmodule load cudnn/10.0v7.6.2.24\\n\\nsource activate py3.5\\n\\nSLICES=\\'slices\\'\\nMODELNAME=\\'modelname\\'\\n\\ncd /home/ci411/pcen-t-varying/scripts/core_scripts\\n\\npython 03_evaluate.py --slices=$SLICES --model-id=$MODELNAME --model-dir=\\'/beegfs/ci411/pcen/models/models_122\\' --feature-dir=\\'/beegfs/ci411/pcen/features/\\' --results-name=\\'results_dry\\''"
      ]
     },
     "execution_count": 38,
     "metadata": {},
     "output_type": "execute_result"
    }
   ],
   "source": [
    "base_script.format('name', 'name', 'slices', 'modelname')"
   ]
  },
  {
   "cell_type": "code",
   "execution_count": 39,
   "metadata": {
    "collapsed": true
   },
   "outputs": [],
   "source": [
    "#make scripts\n",
    "for i, slices in enumerate(slices_list):\n",
    "    model_abbrev = model_names[i]\n",
    "    modelname = models[i]\n",
    "    filename = modelname + '_dry_eval.sbatch'\n",
    "    sbatch_str = base_script.format(model_abbrev, model_abbrev, slices, modelname)\n",
    "    with open(filename, 'w+') as f:\n",
    "        f.write(sbatch_str)"
   ]
  },
  {
   "cell_type": "code",
   "execution_count": 40,
   "metadata": {
    "collapsed": true
   },
   "outputs": [],
   "source": [
    "with open('runall.bat', 'w+') as f:\n",
    "    for model in models:\n",
    "        f.write('sbatch '+ model + '_dry_eval.sbatch' + '\\n')"
   ]
  },
  {
   "cell_type": "code",
   "execution_count": null,
   "metadata": {
    "collapsed": true
   },
   "outputs": [],
   "source": []
  }
 ],
 "metadata": {
  "kernelspec": {
   "display_name": "Python 3",
   "language": "python",
   "name": "python3"
  },
  "language_info": {
   "codemirror_mode": {
    "name": "ipython",
    "version": 3
   },
   "file_extension": ".py",
   "mimetype": "text/x-python",
   "name": "python",
   "nbconvert_exporter": "python",
   "pygments_lexer": "ipython3",
   "version": "3.6.2"
  }
 },
 "nbformat": 4,
 "nbformat_minor": 2
}
