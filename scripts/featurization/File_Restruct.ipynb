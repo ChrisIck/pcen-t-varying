{
 "cells": [
  {
   "cell_type": "code",
   "execution_count": 1,
   "metadata": {},
   "outputs": [],
   "source": [
    "import os\n",
    "import glob\n",
    "import shutil\n",
    "from tqdm.notebook import tqdm\n",
    "from librosa.display import specshow\n",
    "from IPython.display import Audio\n",
    "from joblib import Parallel, delayed\n",
    "\n",
    "\n",
    "import sys\n",
    "sys.path.append('/home/ci411/pcen-t-varying/')\n",
    "\n",
    "from pcen_t.utils import *"
   ]
  },
  {
   "cell_type": "code",
   "execution_count": 2,
   "metadata": {},
   "outputs": [
    {
     "data": {
      "text/plain": [
       "\"\\n#spot check audio/features\\ntest_file = 'soundscape_validate_bimodal662'\\nsemitone = '0'\\ntest_audio = os.path.join(audio_path, 'validate', test_file + '_{}.wav'.format(semitone))\\ntest_pcen = os.path.join(pcen_path,'URBAN-SED_reverb', 'validate', test_file +'_{}.h5'.format(semitone))\\npcen = load_h5(test_pcen)['PCEN/mag'][0,:,:,4]\\ntest_mel = os.path.join(mel_path, 'URBAN-SED_reverb', 'validate', test_file +'_{}.h5'.format(semitone))\\nmel = load_h5(test_mel)['Mel/mag'][0,:,:,0].T\\npcen = load_h5(test_pcen)['PCEN/mag'][0,:,:,2].T\\n\\nAudio(test_audio)\\n\\nprint(mel.shape)\\nspecshow(mel)\\n\\nprint(pcen.shape)\\nspecshow(pcen)\\n\""
      ]
     },
     "execution_count": 2,
     "metadata": {},
     "output_type": "execute_result"
    }
   ],
   "source": [
    "audio_path = \"/beegfs/ci411/pcen/reverb_pitch_URBAN-SED/audio\"\n",
    "pcen_path = \"/beegfs/ci411/pcen/features_807/pcen\"\n",
    "mel_path = \"/beegfs/ci411/pcen/features_807/mel\"\n",
    "\n",
    "feature_suffixes = [\"dry\", \"alley\", \"bedroom\", \"tunnel\", \"sim_short\", \"sim_medium\", \"sim_long\"]\n",
    "subdirs = [\"train\", \"validate\", \"test\"]\n",
    "\n",
    "'''\n",
    "#spot check audio/features\n",
    "test_file = 'soundscape_validate_bimodal662'\n",
    "semitone = '0'\n",
    "test_audio = os.path.join(audio_path, 'validate', test_file + '_{}.wav'.format(semitone))\n",
    "test_pcen = os.path.join(pcen_path,'URBAN-SED_reverb', 'validate', test_file +'_{}.h5'.format(semitone))\n",
    "pcen = load_h5(test_pcen)['PCEN/mag'][0,:,:,4]\n",
    "test_mel = os.path.join(mel_path, 'URBAN-SED_reverb', 'validate', test_file +'_{}.h5'.format(semitone))\n",
    "mel = load_h5(test_mel)['Mel/mag'][0,:,:,0].T\n",
    "pcen = load_h5(test_pcen)['PCEN/mag'][0,:,:,2].T\n",
    "\n",
    "Audio(test_audio)\n",
    "\n",
    "print(mel.shape)\n",
    "specshow(mel)\n",
    "\n",
    "print(pcen.shape)\n",
    "specshow(pcen)\n",
    "'''"
   ]
  },
  {
   "cell_type": "code",
   "execution_count": 3,
   "metadata": {},
   "outputs": [
    {
     "data": {
      "text/plain": [
       "'\\nfor feature in feature_suffixes:\\n    os.mkdir(os.path.join(pcen_path, \"URBAN-SED_\"+feature))\\n    os.mkdir(os.path.join(mel_path, \"URBAN-SED_\"+feature))\\n    for subdir in subdirs:\\n        os.mkdir(os.path.join(pcen_path, \"URBAN-SED_\"+feature, subdir))\\n        os.mkdir(os.path.join(mel_path, \"URBAN-SED_\"+feature, subdir))\\n'"
      ]
     },
     "execution_count": 3,
     "metadata": {},
     "output_type": "execute_result"
    }
   ],
   "source": [
    "#make subdirectories for class-specific folders\n",
    "'''\n",
    "for feature in feature_suffixes:\n",
    "    os.mkdir(os.path.join(pcen_path, \"URBAN-SED_\"+feature))\n",
    "    os.mkdir(os.path.join(mel_path, \"URBAN-SED_\"+feature))\n",
    "    for subdir in subdirs:\n",
    "        os.mkdir(os.path.join(pcen_path, \"URBAN-SED_\"+feature, subdir))\n",
    "        os.mkdir(os.path.join(mel_path, \"URBAN-SED_\"+feature, subdir))\n",
    "'''"
   ]
  },
  {
   "cell_type": "code",
   "execution_count": 5,
   "metadata": {},
   "outputs": [
    {
     "data": {
      "application/vnd.jupyter.widget-view+json": {
       "model_id": "7e5485df50b547e1b3d98dd1bc9e713b",
       "version_major": 2,
       "version_minor": 0
      },
      "text/plain": [
       "HBox(children=(FloatProgress(value=0.0, max=7.0), HTML(value='')))"
      ]
     },
     "metadata": {},
     "output_type": "display_data"
    },
    {
     "data": {
      "application/vnd.jupyter.widget-view+json": {
       "model_id": "b7728803eaa54bf6919c48350d517413",
       "version_major": 2,
       "version_minor": 0
      },
      "text/plain": [
       "HBox(children=(FloatProgress(value=0.0, max=3.0), HTML(value='')))"
      ]
     },
     "metadata": {},
     "output_type": "display_data"
    },
    {
     "name": "stdout",
     "output_type": "stream",
     "text": [
      "\n"
     ]
    },
    {
     "data": {
      "application/vnd.jupyter.widget-view+json": {
       "model_id": "cc5be153261b40f0a1f30862526dc742",
       "version_major": 2,
       "version_minor": 0
      },
      "text/plain": [
       "HBox(children=(FloatProgress(value=0.0, max=3.0), HTML(value='')))"
      ]
     },
     "metadata": {},
     "output_type": "display_data"
    },
    {
     "name": "stdout",
     "output_type": "stream",
     "text": [
      "\n"
     ]
    },
    {
     "data": {
      "application/vnd.jupyter.widget-view+json": {
       "model_id": "b9ab91ffb4fa4046a09ea50aeea75256",
       "version_major": 2,
       "version_minor": 0
      },
      "text/plain": [
       "HBox(children=(FloatProgress(value=0.0, max=3.0), HTML(value='')))"
      ]
     },
     "metadata": {},
     "output_type": "display_data"
    },
    {
     "name": "stdout",
     "output_type": "stream",
     "text": [
      "\n"
     ]
    },
    {
     "data": {
      "application/vnd.jupyter.widget-view+json": {
       "model_id": "3025a3ea64204b84a44afd1275e50342",
       "version_major": 2,
       "version_minor": 0
      },
      "text/plain": [
       "HBox(children=(FloatProgress(value=0.0, max=3.0), HTML(value='')))"
      ]
     },
     "metadata": {},
     "output_type": "display_data"
    },
    {
     "name": "stdout",
     "output_type": "stream",
     "text": [
      "\n"
     ]
    },
    {
     "data": {
      "application/vnd.jupyter.widget-view+json": {
       "model_id": "5d7998ad388945e29a1a0e39036fc079",
       "version_major": 2,
       "version_minor": 0
      },
      "text/plain": [
       "HBox(children=(FloatProgress(value=0.0, max=3.0), HTML(value='')))"
      ]
     },
     "metadata": {},
     "output_type": "display_data"
    },
    {
     "name": "stdout",
     "output_type": "stream",
     "text": [
      "\n"
     ]
    },
    {
     "data": {
      "application/vnd.jupyter.widget-view+json": {
       "model_id": "9fae2271f094402a975eb64737656bbb",
       "version_major": 2,
       "version_minor": 0
      },
      "text/plain": [
       "HBox(children=(FloatProgress(value=0.0, max=3.0), HTML(value='')))"
      ]
     },
     "metadata": {},
     "output_type": "display_data"
    },
    {
     "name": "stdout",
     "output_type": "stream",
     "text": [
      "\n"
     ]
    },
    {
     "data": {
      "application/vnd.jupyter.widget-view+json": {
       "model_id": "f2f8c382b6a9400abb366b84eeccf70b",
       "version_major": 2,
       "version_minor": 0
      },
      "text/plain": [
       "HBox(children=(FloatProgress(value=0.0, max=3.0), HTML(value='')))"
      ]
     },
     "metadata": {},
     "output_type": "display_data"
    },
    {
     "name": "stdout",
     "output_type": "stream",
     "text": [
      "\n",
      "\n"
     ]
    },
    {
     "data": {
      "application/vnd.jupyter.widget-view+json": {
       "model_id": "acdffb0961fa48ada95cd374e96f69b3",
       "version_major": 2,
       "version_minor": 0
      },
      "text/plain": [
       "HBox(children=(FloatProgress(value=0.0, max=7.0), HTML(value='')))"
      ]
     },
     "metadata": {},
     "output_type": "display_data"
    },
    {
     "data": {
      "application/vnd.jupyter.widget-view+json": {
       "model_id": "b18a5f1d5099444c8e864ef992f0832e",
       "version_major": 2,
       "version_minor": 0
      },
      "text/plain": [
       "HBox(children=(FloatProgress(value=0.0, max=3.0), HTML(value='')))"
      ]
     },
     "metadata": {},
     "output_type": "display_data"
    },
    {
     "name": "stdout",
     "output_type": "stream",
     "text": [
      "\n"
     ]
    },
    {
     "data": {
      "application/vnd.jupyter.widget-view+json": {
       "model_id": "5503e85d2690429cb3b2a199b2e326a8",
       "version_major": 2,
       "version_minor": 0
      },
      "text/plain": [
       "HBox(children=(FloatProgress(value=0.0, max=3.0), HTML(value='')))"
      ]
     },
     "metadata": {},
     "output_type": "display_data"
    },
    {
     "name": "stdout",
     "output_type": "stream",
     "text": [
      "\n"
     ]
    },
    {
     "data": {
      "application/vnd.jupyter.widget-view+json": {
       "model_id": "3cc84b4954484a2893938ec70567a7f5",
       "version_major": 2,
       "version_minor": 0
      },
      "text/plain": [
       "HBox(children=(FloatProgress(value=0.0, max=3.0), HTML(value='')))"
      ]
     },
     "metadata": {},
     "output_type": "display_data"
    },
    {
     "name": "stdout",
     "output_type": "stream",
     "text": [
      "\n"
     ]
    },
    {
     "data": {
      "application/vnd.jupyter.widget-view+json": {
       "model_id": "4d8c18d2e203480c88243d19b5b6b484",
       "version_major": 2,
       "version_minor": 0
      },
      "text/plain": [
       "HBox(children=(FloatProgress(value=0.0, max=3.0), HTML(value='')))"
      ]
     },
     "metadata": {},
     "output_type": "display_data"
    },
    {
     "name": "stdout",
     "output_type": "stream",
     "text": [
      "\n"
     ]
    },
    {
     "data": {
      "application/vnd.jupyter.widget-view+json": {
       "model_id": "f5349a0c42bf4d058c4a8d719bfd82a6",
       "version_major": 2,
       "version_minor": 0
      },
      "text/plain": [
       "HBox(children=(FloatProgress(value=0.0, max=3.0), HTML(value='')))"
      ]
     },
     "metadata": {},
     "output_type": "display_data"
    },
    {
     "name": "stdout",
     "output_type": "stream",
     "text": [
      "\n"
     ]
    },
    {
     "data": {
      "application/vnd.jupyter.widget-view+json": {
       "model_id": "66a3a5843b224ac9bcfec825cba28acd",
       "version_major": 2,
       "version_minor": 0
      },
      "text/plain": [
       "HBox(children=(FloatProgress(value=0.0, max=3.0), HTML(value='')))"
      ]
     },
     "metadata": {},
     "output_type": "display_data"
    },
    {
     "name": "stdout",
     "output_type": "stream",
     "text": [
      "\n"
     ]
    },
    {
     "data": {
      "application/vnd.jupyter.widget-view+json": {
       "model_id": "05e3f6f81e20413a81ecae4a2bb99bff",
       "version_major": 2,
       "version_minor": 0
      },
      "text/plain": [
       "HBox(children=(FloatProgress(value=0.0, max=3.0), HTML(value='')))"
      ]
     },
     "metadata": {},
     "output_type": "display_data"
    },
    {
     "name": "stdout",
     "output_type": "stream",
     "text": [
      "\n",
      "\n"
     ]
    },
    {
     "data": {
      "application/vnd.jupyter.widget-view+json": {
       "model_id": "17cb258bc39349dbb85513ff4f7bd18b",
       "version_major": 2,
       "version_minor": 0
      },
      "text/plain": [
       "HBox(children=(FloatProgress(value=0.0, max=3.0), HTML(value='')))"
      ]
     },
     "metadata": {},
     "output_type": "display_data"
    },
    {
     "name": "stdout",
     "output_type": "stream",
     "text": [
      "\n"
     ]
    }
   ],
   "source": [
    "\n",
    "#move pcen features to class-specific folders\n",
    "for feature in tqdm(feature_suffixes):\n",
    "    for subdir in tqdm(subdirs):\n",
    "        matching = os.path.join(pcen_path, \"URBAN-SED_reverb\", subdir, \"*_\"+feature+'*.h5')\n",
    "        dest_dir = os.path.join(pcen_path, \"URBAN-SED_\" + feature, subdir)\n",
    "        files = glob.glob(matching)\n",
    "        #Parallel(n_jobs=4)(delayed(shutil.move)(file, dest_dir) for file in files)\n",
    "\n",
    "#move mel features to class-specific folders\n",
    "for feature in tqdm(feature_suffixes):\n",
    "    for subdir in tqdm(subdirs):\n",
    "        matching = os.path.join(mel_path, 'URBAN-SED_reverb', subdir, \"*_\"+feature+'*.h5')\n",
    "        dest_dir = os.path.join(mel_path, \"URBAN-SED_\" + feature, subdir)\n",
    "        files = glob.glob(matching)\n",
    "        #Parallel(n_jobs=4)(delayed(shutil.move)(file, dest_dir) for file in files)\n",
    "\n",
    "\n",
    "#move remaining dry samples to dry folder\n",
    "for subdir in tqdm(subdirs):\n",
    "    matching = os.path.join(pcen_path, \"URBAN-SED_reverb\", subdir, \"*.h5\")\n",
    "    dest_dir = os.path.join(pcen_path, \"URBAN-SED_dry\", subdir)\n",
    "    files = glob.glob(matching)\n",
    "    #Parallel(n_jobs=4)(delayed(shutil.move)(file, dest_dir) for file in files)\n",
    "                            \n",
    "    matching = os.path.join(mel_path, \"URBAN-SED_reverb\", subdir, \"*.h5\")\n",
    "    dest_dir = os.path.join(mel_path, \"URBAN-SED_dry\", subdir)\n",
    "    files = glob.glob(matching)\n",
    "    #Parallel(n_jobs=4)(delayed(shutil.move)(file, dest_dir) for file in files)\n"
   ]
  },
  {
   "cell_type": "code",
   "execution_count": 10,
   "metadata": {},
   "outputs": [
    {
     "data": {
      "application/vnd.jupyter.widget-view+json": {
       "model_id": "edb5b7ff7ddf4a72ba6bd590b353984f",
       "version_major": 2,
       "version_minor": 0
      },
      "text/plain": [
       "HBox(children=(FloatProgress(value=0.0, max=2.0), HTML(value='')))"
      ]
     },
     "metadata": {},
     "output_type": "display_data"
    },
    {
     "data": {
      "application/vnd.jupyter.widget-view+json": {
       "model_id": "1c557d3b59844e93ad2c2c84b1de4564",
       "version_major": 2,
       "version_minor": 0
      },
      "text/plain": [
       "HBox(children=(FloatProgress(value=0.0, max=3.0), HTML(value='')))"
      ]
     },
     "metadata": {},
     "output_type": "display_data"
    },
    {
     "name": "stdout",
     "output_type": "stream",
     "text": [
      "\n"
     ]
    },
    {
     "data": {
      "application/vnd.jupyter.widget-view+json": {
       "model_id": "240efa7a708244bd8a0228aee9e7f37e",
       "version_major": 2,
       "version_minor": 0
      },
      "text/plain": [
       "HBox(children=(FloatProgress(value=0.0, max=3.0), HTML(value='')))"
      ]
     },
     "metadata": {},
     "output_type": "display_data"
    },
    {
     "name": "stdout",
     "output_type": "stream",
     "text": [
      "\n",
      "\n"
     ]
    }
   ],
   "source": [
    "pcen_dest_path = \"/beegfs/ci411/pcen/features_807/unpitched/pcen\"\n",
    "mel_dest_path = \"/beegfs/ci411/pcen/features_807/unpitched/mel\"\n",
    "\n",
    "#make directory structure in unpitched folders\n",
    "'''\n",
    "for feature in feature_suffixes:\n",
    "    os.mkdir(os.path.join(pcen_dest_path, \"URBAN-SED_\"+feature))\n",
    "    os.mkdir(os.path.join(mel_dest_path, \"URBAN-SED_\"+feature))\n",
    "    for subdir in subdirs:\n",
    "        os.mkdir(os.path.join(pcen_dest_path, \"URBAN-SED_\"+feature, subdir))\n",
    "        os.mkdir(os.path.join(mel_dest_path, \"URBAN-SED_\"+feature, subdir))\n",
    "'''\n",
    "\n",
    "#move un-shifted audio to a separate folder\n",
    "features_tqdm = tqdm(feature_suffixes[5:])\n",
    "for feature in features_tqdm:\n",
    "    features_tqdm.set_description(feature)\n",
    "    subdirs_tqdm = tqdm(subdirs)\n",
    "    for subdir in subdirs_tqdm:\n",
    "        subdirs_tqdm.set_description(\"PCEN\")\n",
    "        matching = os.path.join(pcen_path, \"URBAN-SED_\" + feature, subdir, \"*_0.h5\")\n",
    "        dest_dir = os.path.join(pcen_dest_path, \"URBAN-SED_\" + feature, subdir)\n",
    "        files = glob.glob(matching)\n",
    "        Parallel(n_jobs=4)(delayed(shutil.copy)(file, dest_dir) for file in files)\n",
    "\n",
    "        subdirs_tqdm.set_description(\"Mel\")\n",
    "        matching = os.path.join(mel_path, \"URBAN-SED_\" + feature, subdir, \"*_0.h5\")\n",
    "        dest_dir = os.path.join(mel_dest_path, \"URBAN-SED_\" + feature, subdir)\n",
    "        files = glob.glob(matching)\n",
    "        Parallel(n_jobs=4)(delayed(shutil.copy)(file, dest_dir) for file in files)"
   ]
  },
  {
   "cell_type": "raw",
   "metadata": {},
   "source": [
    "#spot check audio/features\n",
    "test_file = 'soundscape_validate_bimodal662'\n",
    "semitone = '0'\n",
    "test_audio = os.path.join(audio_path, 'validate', test_file + '_{}.wav'.format(semitone))\n",
    "test_pcen = os.path.join(pcen_path,'URBAN-SED_dry', 'validate', test_file +'_{}.h5'.format(semitone))\n",
    "pcen = load_h5(test_pcen)['PCEN/mag'][0,:,:,4]\n",
    "test_mel = os.path.join(mel_path, 'URBAN-SED_dry', 'validate', test_file +'_{}.h5'.format(semitone))\n",
    "mel = load_h5(test_mel)['Mel/mag'][0,:,:,0]\n",
    "test_pcen_up = os.path.join(pcen_dest_path,'URBAN-SED_dry', 'validate', test_file +'_{}.h5'.format(semitone))\n",
    "pcen_up = load_h5(test_pcen_up)['PCEN/mag'][0,:,:,4]\n",
    "\n",
    "Audio(test_audio)\n",
    "\n",
    "print(mel.shape)\n",
    "print(pcen.shape)\n",
    "print(pcen_up.shape)"
   ]
  },
  {
   "cell_type": "code",
   "execution_count": null,
   "metadata": {},
   "outputs": [],
   "source": []
  }
 ],
 "metadata": {
  "kernelspec": {
   "display_name": "Python 3",
   "language": "python",
   "name": "python3"
  },
  "language_info": {
   "codemirror_mode": {
    "name": "ipython",
    "version": 3
   },
   "file_extension": ".py",
   "mimetype": "text/x-python",
   "name": "python",
   "nbconvert_exporter": "python",
   "pygments_lexer": "ipython3",
   "version": "3.8.2"
  }
 },
 "nbformat": 4,
 "nbformat_minor": 4
}
