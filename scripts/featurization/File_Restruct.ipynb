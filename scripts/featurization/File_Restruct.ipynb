{
 "cells": [
  {
   "cell_type": "code",
   "execution_count": 3,
   "metadata": {},
   "outputs": [],
   "source": [
    "import os\n",
    "import glob\n",
    "import shutil\n",
    "from tqdm.notebook import tqdm\n",
    "from librosa.display import specshow\n",
    "from IPython.display import Audio\n",
    "from joblib import Parallel, delayed\n",
    "\n",
    "\n",
    "import sys\n",
    "sys.path.append('/home/ci411/pcen-t-varying/')\n",
    "\n",
    "from pcen_t.utils import *"
   ]
  },
  {
   "cell_type": "code",
   "execution_count": 1,
   "metadata": {},
   "outputs": [
    {
     "data": {
      "text/plain": [
       "\"\\n#spot check audio/features\\ntest_file = 'soundscape_validate_bimodal662'\\nsemitone = '0'\\ntest_audio = os.path.join(audio_path, 'validate', test_file + '_{}.wav'.format(semitone))\\ntest_pcen = os.path.join(pcen_path,'URBAN-SED_reverb', 'validate', test_file +'_{}.h5'.format(semitone))\\npcen = load_h5(test_pcen)['PCEN/mag'][0,:,:,4]\\ntest_mel = os.path.join(mel_path, 'URBAN-SED_reverb', 'validate', test_file +'_{}.h5'.format(semitone))\\nmel = load_h5(test_mel)['Mel/mag'][0,:,:,0].T\\npcen = load_h5(test_pcen)['PCEN/mag'][0,:,:,2].T\\n\\nAudio(test_audio)\\n\\nprint(mel.shape)\\nspecshow(mel)\\n\\nprint(pcen.shape)\\nspecshow(pcen)\\n\""
      ]
     },
     "execution_count": 1,
     "metadata": {},
     "output_type": "execute_result"
    }
   ],
   "source": [
    "audio_path = \"/beegfs/ci411/pcen/reverb_pitch_URBAN-SED/audio\"\n",
    "ann_path = \"/beegfs/ci411/pcen/reverb_pitch_URBAN-SED/annotations\"\n",
    "pcen_path = \"/beegfs/ci411/pcen/features_807/pcen\"\n",
    "mel_path = \"/beegfs/ci411/pcen/features_807/mel\"\n",
    "\n",
    "feature_suffixes = [\"dry\", \"alley\", \"bedroom\", \"tunnel\", \"sim_short\", \"sim_medium\", \"sim_long\"]\n",
    "subdirs = [\"train\", \"validate\", \"test\"]\n",
    "\n",
    "'''\n",
    "#spot check audio/features\n",
    "test_file = 'soundscape_validate_bimodal662'\n",
    "semitone = '0'\n",
    "test_audio = os.path.join(audio_path, 'validate', test_file + '_{}.wav'.format(semitone))\n",
    "test_pcen = os.path.join(pcen_path,'URBAN-SED_reverb', 'validate', test_file +'_{}.h5'.format(semitone))\n",
    "pcen = load_h5(test_pcen)['PCEN/mag'][0,:,:,4]\n",
    "test_mel = os.path.join(mel_path, 'URBAN-SED_reverb', 'validate', test_file +'_{}.h5'.format(semitone))\n",
    "mel = load_h5(test_mel)['Mel/mag'][0,:,:,0].T\n",
    "pcen = load_h5(test_pcen)['PCEN/mag'][0,:,:,2].T\n",
    "\n",
    "Audio(test_audio)\n",
    "\n",
    "print(mel.shape)\n",
    "specshow(mel)\n",
    "\n",
    "print(pcen.shape)\n",
    "specshow(pcen)\n",
    "'''"
   ]
  },
  {
   "cell_type": "code",
   "execution_count": 9,
   "metadata": {},
   "outputs": [
    {
     "data": {
      "application/vnd.jupyter.widget-view+json": {
       "model_id": "cc65136bdc57454db7c25271fb237160",
       "version_major": 2,
       "version_minor": 0
      },
      "text/plain": [
       "HBox(children=(FloatProgress(value=0.0, max=70000.0), HTML(value='')))"
      ]
     },
     "metadata": {},
     "output_type": "display_data"
    },
    {
     "name": "stdout",
     "output_type": "stream",
     "text": [
      "\n"
     ]
    },
    {
     "data": {
      "application/vnd.jupyter.widget-view+json": {
       "model_id": "f51db2f3d034457baf67d52c74723b16",
       "version_major": 2,
       "version_minor": 0
      },
      "text/plain": [
       "HBox(children=(FloatProgress(value=0.0, max=70000.0), HTML(value='')))"
      ]
     },
     "metadata": {},
     "output_type": "display_data"
    },
    {
     "name": "stdout",
     "output_type": "stream",
     "text": [
      "\n"
     ]
    }
   ],
   "source": [
    "dest_main = '/scratch/ci411/pcen/urbansed_pitch/'\n",
    "\n",
    "for subdir in ['validate']:\n",
    "    src_audio = os.path.join(audio_path, subdir, '*.wav')\n",
    "    src_ann = os.path.join(ann_path, subdir, '*.jams')\n",
    "    dest = os.path.join(dest_main, subdir)\n",
    "    audio_files = glob.glob(src_audio)\n",
    "    ann_files = glob.glob(src_ann)\n",
    "    \n",
    "    #Parallel(n_jobs=4)(delayed(shutil.move)(file, dest) for file in tqdm(audio_files))\n",
    "    #Parallel(n_jobs=4)(delayed(shutil.move)(file, dest) for file in tqdm(ann_files))\n",
    "\n",
    "    "
   ]
  },
  {
   "cell_type": "code",
   "execution_count": 3,
   "metadata": {},
   "outputs": [
    {
     "data": {
      "text/plain": [
       "'\\nfor feature in feature_suffixes:\\n    os.mkdir(os.path.join(pcen_path, \"URBAN-SED_\"+feature))\\n    os.mkdir(os.path.join(mel_path, \"URBAN-SED_\"+feature))\\n    for subdir in subdirs:\\n        os.mkdir(os.path.join(pcen_path, \"URBAN-SED_\"+feature, subdir))\\n        os.mkdir(os.path.join(mel_path, \"URBAN-SED_\"+feature, subdir))\\n'"
      ]
     },
     "execution_count": 3,
     "metadata": {},
     "output_type": "execute_result"
    }
   ],
   "source": [
    "#make subdirectories for class-specific folders\n",
    "'''\n",
    "for feature in feature_suffixes:\n",
    "    os.mkdir(os.path.join(pcen_path, \"URBAN-SED_\"+feature))\n",
    "    os.mkdir(os.path.join(mel_path, \"URBAN-SED_\"+feature))\n",
    "    for subdir in subdirs:\n",
    "        os.mkdir(os.path.join(pcen_path, \"URBAN-SED_\"+feature, subdir))\n",
    "        os.mkdir(os.path.join(mel_path, \"URBAN-SED_\"+feature, subdir))\n",
    "'''"
   ]
  },
  {
   "cell_type": "code",
   "execution_count": 4,
   "metadata": {},
   "outputs": [
    {
     "data": {
      "application/vnd.jupyter.widget-view+json": {
       "model_id": "17aae3e571554b96aaa9e6293f623336",
       "version_major": 2,
       "version_minor": 0
      },
      "text/plain": [
       "HBox(children=(FloatProgress(value=0.0, max=7.0), HTML(value='')))"
      ]
     },
     "metadata": {},
     "output_type": "display_data"
    },
    {
     "data": {
      "application/vnd.jupyter.widget-view+json": {
       "model_id": "ffa89b47e66a48ffa6e6238f2c77e87b",
       "version_major": 2,
       "version_minor": 0
      },
      "text/plain": [
       "HBox(children=(FloatProgress(value=0.0, max=3.0), HTML(value='')))"
      ]
     },
     "metadata": {},
     "output_type": "display_data"
    },
    {
     "name": "stdout",
     "output_type": "stream",
     "text": [
      "\n"
     ]
    },
    {
     "data": {
      "application/vnd.jupyter.widget-view+json": {
       "model_id": "874219d4e7404d76aeac84d33c49d262",
       "version_major": 2,
       "version_minor": 0
      },
      "text/plain": [
       "HBox(children=(FloatProgress(value=0.0, max=3.0), HTML(value='')))"
      ]
     },
     "metadata": {},
     "output_type": "display_data"
    },
    {
     "name": "stdout",
     "output_type": "stream",
     "text": [
      "\n"
     ]
    },
    {
     "data": {
      "application/vnd.jupyter.widget-view+json": {
       "model_id": "7035be39d4c240458d5daf8f279d9034",
       "version_major": 2,
       "version_minor": 0
      },
      "text/plain": [
       "HBox(children=(FloatProgress(value=0.0, max=3.0), HTML(value='')))"
      ]
     },
     "metadata": {},
     "output_type": "display_data"
    },
    {
     "name": "stdout",
     "output_type": "stream",
     "text": [
      "\n"
     ]
    },
    {
     "data": {
      "application/vnd.jupyter.widget-view+json": {
       "model_id": "69a84b4f71f44bfc895ca8bcfe8cf0ca",
       "version_major": 2,
       "version_minor": 0
      },
      "text/plain": [
       "HBox(children=(FloatProgress(value=0.0, max=3.0), HTML(value='')))"
      ]
     },
     "metadata": {},
     "output_type": "display_data"
    },
    {
     "name": "stdout",
     "output_type": "stream",
     "text": [
      "\n"
     ]
    },
    {
     "data": {
      "application/vnd.jupyter.widget-view+json": {
       "model_id": "344df317acd548a39894605e59f49b25",
       "version_major": 2,
       "version_minor": 0
      },
      "text/plain": [
       "HBox(children=(FloatProgress(value=0.0, max=3.0), HTML(value='')))"
      ]
     },
     "metadata": {},
     "output_type": "display_data"
    },
    {
     "name": "stdout",
     "output_type": "stream",
     "text": [
      "\n"
     ]
    },
    {
     "data": {
      "application/vnd.jupyter.widget-view+json": {
       "model_id": "cd47e12fe2bf4e0b93c4f88ad1ae8719",
       "version_major": 2,
       "version_minor": 0
      },
      "text/plain": [
       "HBox(children=(FloatProgress(value=0.0, max=3.0), HTML(value='')))"
      ]
     },
     "metadata": {},
     "output_type": "display_data"
    },
    {
     "name": "stdout",
     "output_type": "stream",
     "text": [
      "\n"
     ]
    },
    {
     "data": {
      "application/vnd.jupyter.widget-view+json": {
       "model_id": "2aef058d36764abb8dbd1f89222aaf2d",
       "version_major": 2,
       "version_minor": 0
      },
      "text/plain": [
       "HBox(children=(FloatProgress(value=0.0, max=3.0), HTML(value='')))"
      ]
     },
     "metadata": {},
     "output_type": "display_data"
    },
    {
     "name": "stdout",
     "output_type": "stream",
     "text": [
      "\n",
      "\n"
     ]
    },
    {
     "data": {
      "application/vnd.jupyter.widget-view+json": {
       "model_id": "94a005ce07314a85b5d8791dea86c90b",
       "version_major": 2,
       "version_minor": 0
      },
      "text/plain": [
       "HBox(children=(FloatProgress(value=0.0, max=7.0), HTML(value='')))"
      ]
     },
     "metadata": {},
     "output_type": "display_data"
    },
    {
     "data": {
      "application/vnd.jupyter.widget-view+json": {
       "model_id": "aacee38e470742fb9e2e6d7aeef35672",
       "version_major": 2,
       "version_minor": 0
      },
      "text/plain": [
       "HBox(children=(FloatProgress(value=0.0, max=3.0), HTML(value='')))"
      ]
     },
     "metadata": {},
     "output_type": "display_data"
    },
    {
     "name": "stdout",
     "output_type": "stream",
     "text": [
      "\n"
     ]
    },
    {
     "data": {
      "application/vnd.jupyter.widget-view+json": {
       "model_id": "1f2a7b03e87d42b4a14932ef7e76eb69",
       "version_major": 2,
       "version_minor": 0
      },
      "text/plain": [
       "HBox(children=(FloatProgress(value=0.0, max=3.0), HTML(value='')))"
      ]
     },
     "metadata": {},
     "output_type": "display_data"
    },
    {
     "name": "stdout",
     "output_type": "stream",
     "text": [
      "\n"
     ]
    },
    {
     "data": {
      "application/vnd.jupyter.widget-view+json": {
       "model_id": "ff67b9f1de9547adafb8de48f05b0a98",
       "version_major": 2,
       "version_minor": 0
      },
      "text/plain": [
       "HBox(children=(FloatProgress(value=0.0, max=3.0), HTML(value='')))"
      ]
     },
     "metadata": {},
     "output_type": "display_data"
    },
    {
     "name": "stdout",
     "output_type": "stream",
     "text": [
      "\n"
     ]
    },
    {
     "data": {
      "application/vnd.jupyter.widget-view+json": {
       "model_id": "cb4ff8b073e14e1797e83d938f5590ec",
       "version_major": 2,
       "version_minor": 0
      },
      "text/plain": [
       "HBox(children=(FloatProgress(value=0.0, max=3.0), HTML(value='')))"
      ]
     },
     "metadata": {},
     "output_type": "display_data"
    },
    {
     "name": "stdout",
     "output_type": "stream",
     "text": [
      "\n"
     ]
    },
    {
     "data": {
      "application/vnd.jupyter.widget-view+json": {
       "model_id": "3f239ce7cf294da58653a70419643755",
       "version_major": 2,
       "version_minor": 0
      },
      "text/plain": [
       "HBox(children=(FloatProgress(value=0.0, max=3.0), HTML(value='')))"
      ]
     },
     "metadata": {},
     "output_type": "display_data"
    },
    {
     "name": "stdout",
     "output_type": "stream",
     "text": [
      "\n"
     ]
    },
    {
     "data": {
      "application/vnd.jupyter.widget-view+json": {
       "model_id": "98b8c91c1933455e886aa135ab92e93d",
       "version_major": 2,
       "version_minor": 0
      },
      "text/plain": [
       "HBox(children=(FloatProgress(value=0.0, max=3.0), HTML(value='')))"
      ]
     },
     "metadata": {},
     "output_type": "display_data"
    },
    {
     "name": "stdout",
     "output_type": "stream",
     "text": [
      "\n"
     ]
    },
    {
     "data": {
      "application/vnd.jupyter.widget-view+json": {
       "model_id": "7027f45c9aa44030a533e4110fe68cd4",
       "version_major": 2,
       "version_minor": 0
      },
      "text/plain": [
       "HBox(children=(FloatProgress(value=0.0, max=3.0), HTML(value='')))"
      ]
     },
     "metadata": {},
     "output_type": "display_data"
    },
    {
     "name": "stdout",
     "output_type": "stream",
     "text": [
      "\n",
      "\n"
     ]
    },
    {
     "data": {
      "application/vnd.jupyter.widget-view+json": {
       "model_id": "2bd728eb3f4e47a79bf522a35627634e",
       "version_major": 2,
       "version_minor": 0
      },
      "text/plain": [
       "HBox(children=(FloatProgress(value=0.0, max=3.0), HTML(value='')))"
      ]
     },
     "metadata": {},
     "output_type": "display_data"
    },
    {
     "name": "stdout",
     "output_type": "stream",
     "text": [
      "\n"
     ]
    }
   ],
   "source": [
    "\n",
    "#move pcen features to class-specific folders\n",
    "for feature in tqdm(feature_suffixes):\n",
    "    for subdir in tqdm(subdirs):\n",
    "        matching = os.path.join(pcen_path, \"URBAN-SED_reverb\", subdir, \"*_\"+feature+'*.h5')\n",
    "        dest_dir = os.path.join(pcen_path, \"URBAN-SED_\" + feature, subdir)\n",
    "        files = glob.glob(matching)\n",
    "        #Parallel(n_jobs=4)(delayed(shutil.move)(file, dest_dir) for file in files)\n",
    "/\n",
    "#move mel features to class-specific folders\n",
    "for feature in tqdm(feature_suffixes):\n",
    "    for subdir in tqdm(subdirs):\n",
    "        matching = os.path.join(mel_path, 'URBAN-SED_reverb', subdir, \"*_\"+feature+'*.h5')\n",
    "        dest_dir = os.path.join(mel_path, \"URBAN-SED_\" + feature, subdir)\n",
    "        files = glob.glob(matching)\n",
    "        #Parallel(n_jobs=4)(delayed(shutil.move)(file, dest_dir) for file in files)\n",
    "\n",
    "\n",
    "#move remaining dry samples to dry folder\n",
    "for subdir in tqdm(subdirs):\n",
    "    matching = os.path.join(pcen_path, \"URBAN-SED_reverb\", subdir, \"*.h5\")\n",
    "    dest_dir = os.path.join(pcen_path, \"URBAN-SED_dry\", subdir)\n",
    "    files = glob.glob(matching)\n",
    "    #Parallel(n_jobs=4)(delayed(shutil.move)(file, dest_dir) for file in files)\n",
    "                            \n",
    "    matching = os.path.join(mel_path, \"URBAN-SED_reverb\", subdir, \"*.h5\")\n",
    "    dest_dir = os.path.join(mel_path, \"URBAN-SED_dry\", subdir)\n",
    "    files = glob.glob(matching)\n",
    "    #Parallel(n_jobs=4)(delayed(shutil.move)(file, dest_dir) for file in files)\n"
   ]
  },
  {
   "cell_type": "code",
   "execution_count": 5,
   "metadata": {},
   "outputs": [
    {
     "data": {
      "application/vnd.jupyter.widget-view+json": {
       "model_id": "9cceea23d750457ca39d59d35791e5d5",
       "version_major": 2,
       "version_minor": 0
      },
      "text/plain": [
       "HBox(children=(FloatProgress(value=0.0, max=2.0), HTML(value='')))"
      ]
     },
     "metadata": {},
     "output_type": "display_data"
    },
    {
     "data": {
      "application/vnd.jupyter.widget-view+json": {
       "model_id": "33e5e64604f74c1e8537ca6592752dcf",
       "version_major": 2,
       "version_minor": 0
      },
      "text/plain": [
       "HBox(children=(FloatProgress(value=0.0, max=3.0), HTML(value='')))"
      ]
     },
     "metadata": {},
     "output_type": "display_data"
    },
    {
     "name": "stdout",
     "output_type": "stream",
     "text": [
      "\n"
     ]
    },
    {
     "data": {
      "application/vnd.jupyter.widget-view+json": {
       "model_id": "dda66c2781794e12a6b4e143c4cfacdb",
       "version_major": 2,
       "version_minor": 0
      },
      "text/plain": [
       "HBox(children=(FloatProgress(value=0.0, max=3.0), HTML(value='')))"
      ]
     },
     "metadata": {},
     "output_type": "display_data"
    },
    {
     "name": "stdout",
     "output_type": "stream",
     "text": [
      "\n",
      "\n"
     ]
    }
   ],
   "source": [
    "pcen_dest_path = \"/beegfs/ci411/pcen/features_807/unpitched/pcen\"\n",
    "mel_dest_path = \"/beegfs/ci411/pcen/features_807/unpitched/mel\"\n",
    "\n",
    "#make directory structure in unpitched folders\n",
    "'''\n",
    "for feature in feature_suffixes:\n",
    "    os.mkdir(os.path.join(pcen_dest_path, \"URBAN-SED_\"+feature))\n",
    "    os.mkdir(os.path.join(mel_dest_path, \"URBAN-SED_\"+feature))\n",
    "    for subdir in subdirs:\n",
    "        os.mkdir(os.path.join(pcen_dest_path, \"URBAN-SED_\"+feature, subdir))\n",
    "        os.mkdir(os.path.join(mel_dest_path, \"URBAN-SED_\"+feature, subdir))\n",
    "'''\n",
    "\n",
    "#move un-shifted audio to a separate folder\n",
    "features_tqdm = tqdm(feature_suffixes[5:])\n",
    "for feature in features_tqdm:\n",
    "    features_tqdm.set_description(feature)\n",
    "    subdirs_tqdm = tqdm(subdirs)\n",
    "    for subdir in subdirs_tqdm:\n",
    "        subdirs_tqdm.set_description(\"PCEN\")\n",
    "        matching = os.path.join(pcen_path, \"URBAN-SED_\" + feature, subdir, \"*_0.h5\")\n",
    "        dest_dir = os.path.join(pcen_dest_path, \"URBAN-SED_\" + feature, subdir)\n",
    "        files = glob.glob(matching)\n",
    "        #Parallel(n_jobs=4)(delayed(shutil.copy)(file, dest_dir) for file in files)\n",
    "\n",
    "        subdirs_tqdm.set_description(\"Mel\")\n",
    "        matching = os.path.join(mel_path, \"URBAN-SED_\" + feature, subdir, \"*_0.h5\")\n",
    "        dest_dir = os.path.join(mel_dest_path, \"URBAN-SED_\" + feature, subdir)\n",
    "        files = glob.glob(matching)\n",
    "        #Parallel(n_jobs=4)(delayed(shutil.copy)(file, dest_dir) for file in files)"
   ]
  },
  {
   "cell_type": "code",
   "execution_count": 7,
   "metadata": {},
   "outputs": [
    {
     "name": "stdout",
     "output_type": "stream",
     "text": [
      "(215, 128)\n",
      "(215, 128)\n",
      "(215, 128)\n"
     ]
    }
   ],
   "source": [
    "#spot check audio/features\n",
    "test_file = 'soundscape_validate_bimodal662'\n",
    "semitone = '0'\n",
    "test_audio = os.path.join(audio_path, 'validate', test_file + '_{}.wav'.format(semitone))\n",
    "test_pcen = os.path.join(pcen_path,'URBAN-SED_dry', 'validate', test_file +'_{}.h5'.format(semitone))\n",
    "pcen = load_h5(test_pcen)['PCEN/mag'][0,:,:,4]\n",
    "test_mel = os.path.join(mel_path, 'URBAN-SED_dry', 'validate', test_file +'_{}.h5'.format(semitone))\n",
    "mel = load_h5(test_mel)['Mel/mag'][0,:,:]\n",
    "test_pcen_up = os.path.join(pcen_dest_path,'URBAN-SED_dry', 'validate', test_file +'_{}.h5'.format(semitone))\n",
    "pcen_up = load_h5(test_pcen_up)['PCEN/mag'][0,:,:,4]\n",
    "\n",
    "Audio(test_audio)\n",
    "\n",
    "print(mel.shape)\n",
    "print(pcen.shape)\n",
    "print(pcen_up.shape)"
   ]
  },
  {
   "cell_type": "code",
   "execution_count": null,
   "metadata": {},
   "outputs": [],
   "source": []
  }
 ],
 "metadata": {
  "kernelspec": {
   "display_name": "Python 3",
   "language": "python",
   "name": "python3"
  },
  "language_info": {
   "codemirror_mode": {
    "name": "ipython",
    "version": 3
   },
   "file_extension": ".py",
   "mimetype": "text/x-python",
   "name": "python",
   "nbconvert_exporter": "python",
   "pygments_lexer": "ipython3",
   "version": "3.8.2"
  }
 },
 "nbformat": 4,
 "nbformat_minor": 4
}
