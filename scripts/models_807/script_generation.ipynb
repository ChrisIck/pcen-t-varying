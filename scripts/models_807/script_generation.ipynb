{
 "cells": [
  {
   "cell_type": "code",
   "execution_count": 5,
   "metadata": {},
   "outputs": [],
   "source": [
    "import numpy as np\n",
    "import os"
   ]
  },
  {
   "cell_type": "code",
   "execution_count": 6,
   "metadata": {},
   "outputs": [],
   "source": [
    "base_script_train_pcen = \"\"\"#!/bin/bash\n",
    "\n",
    "#SBATCH --job-name={jobname}\n",
    "#SBATCH --nodes=1\n",
    "#SBATCH --cpus-per-task=4\n",
    "#SBATCH --mem=16GB\n",
    "#SBATCH --time=100:00:00\n",
    "#SBATCH --mail-user=chris.ick@nyu.edu\n",
    "#SBATCH --output=\"outputs/o{outputname}-%j.out\"\n",
    "#SBATCH --export=NONE\n",
    "#SBATCH --gres=gpu:1\n",
    "\n",
    "module purge\n",
    "module load anaconda3/4.3.1\n",
    "module load sox/intel/14.4.2\n",
    "module load ffmpeg/intel/3.2.2\n",
    "module load cuda/10.1.105\n",
    "module load cudnn/10.1v7.6.5.32\n",
    "\n",
    "source activate py3.8\n",
    "\n",
    "SLICES='{slices}'\n",
    "MODELNAME='{modelname}'\n",
    "MODELDIR={modeldir}\n",
    "TRAINFEATURENAMES=\"{trainfeatures}\"\n",
    "\n",
    "cd /home/ci411/pcen-t-varying/scripts/core_scripts\n",
    "\n",
    "python 02_train.py --slices=$SLICES --model-id=$MODELNAME --model-dir=$MODELDIR --training-dir=\"{traindir}\" --validation-dir=\"{valdir}\" --feature-names=$TRAINFEATURENAMES --load-pump='/beegfs/ci411/pcen/pumps/pcen'\n",
    "cd /home/ci411/pcen-t-varying/scripts/{scriptdir}/sbatch_scripts_pcen/\n",
    "sbatch {eval_script}\"\"\"\n",
    "\n",
    "\n",
    "base_script_eval_pcen = \"\"\"#!/bin/bash\n",
    "\n",
    "#SBATCH --job-name={jobname}\n",
    "#SBATCH --nodes=1\n",
    "#SBATCH --cpus-per-task=4\n",
    "#SBATCH --mem=16GB\n",
    "#SBATCH --time=100:00:00\n",
    "#SBATCH --mail-user=chris.ick@nyu.edu\n",
    "#SBATCH --export=NONE\n",
    "#SBATCH --output=\"outputs/o{outputname}-%j.out\"\n",
    "\n",
    "module purge\n",
    "module load anaconda3/4.3.1\n",
    "module load sox/intel/14.4.2\n",
    "module load ffmpeg/intel/3.2.2\n",
    "module load cuda/10.1.105\n",
    "module load cudnn/10.1v7.6.5.32\n",
    "\n",
    "source activate py3.8\n",
    "\n",
    "SLICES='{slices}'\n",
    "MODELNAME='{modelname}'\n",
    "MODELDIR={modeldir}\n",
    "FEATUREDIR='{testdir}'\n",
    "\n",
    "cd /home/ci411/pcen-t-varying/scripts/core_scripts\n",
    "\n",
    "python 03_evaluate.py --n-samples=100 --slices=$SLICES --model-id=$MODELNAME --model-dir=$MODELDIR --feature-dir=$FEATUREDIR --feature-names=\"['URBAN-SED_dry']\" --results-name='results_dry'\n",
    "python 03_evaluate.py --n-samples=100 --slices=$SLICES --model-id=$MODELNAME --model-dir=$MODELDIR --feature-dir=$FEATUREDIR --feature-names=\"['URBAN-SED_dry','URBAN-SED_sim_short','URBAN-SED_sim_medium','URBAN-SED_sim_long','URBAN-SED_alley','URBAN-SED_bedroom','URBAN-SED_tunnel']\" --results-name='results_wet'\n",
    "python 03_evaluate.py --n-samples=100 --slices=$SLICES --model-id=$MODELNAME --model-dir=$MODELDIR --feature-dir=$FEATUREDIR --feature-names=\"['URBAN-SED_sim_short']\" --results-name='results_short'\n",
    "python 03_evaluate.py --n-samples=100 --slices=$SLICES --model-id=$MODELNAME --model-dir=$MODELDIR --feature-dir=$FEATUREDIR --feature-names=\"['URBAN-SED_sim_medium']\" --results-name='results_medium'\n",
    "python 03_evaluate.py --n-samples=100 --slices=$SLICES --model-id=$MODELNAME --model-dir=$MODELDIR --feature-dir=$FEATUREDIR --feature-names=\"['URBAN-SED_sim_long']\" --results-name='results_long'\n",
    "python 03_evaluate.py --n-samples=100 --slices=$SLICES --model-id=$MODELNAME --model-dir=$MODELDIR --feature-dir=$FEATUREDIR --feature-names=\"['URBAN-SED_alley']\" --results-name='results_alley'\n",
    "python 03_evaluate.py --n-samples=100 --slices=$SLICES --model-id=$MODELNAME --model-dir=$MODELDIR --feature-dir=$FEATUREDIR --feature-names=\"['URBAN-SED_bedroom']\" --results-name='results_bedroom'\n",
    "python 03_evaluate.py --n-samples=100 --slices=$SLICES --model-id=$MODELNAME --model-dir=$MODELDIR --feature-dir=$FEATUREDIR --feature-names=\"['URBAN-SED_tunnel']\" --results-name='results_tunnel'\n",
    "\n",
    "\"\"\""
   ]
  },
  {
   "cell_type": "code",
   "execution_count": 7,
   "metadata": {},
   "outputs": [],
   "source": [
    "#slice variations\n",
    "slice_variations = [list(np.arange(n+1)) for n in range(10)]\n",
    "\n",
    "slice_variations_2 = [list(np.arange(n, 10-n)) for n in range(4,0,-1)]\n",
    "\n",
    "slice_variations_3 = [[i] for i in range(10)]\n",
    "\n",
    "slices_all_variations = slice_variations+slice_variations_2+slice_variations_3"
   ]
  },
  {
   "cell_type": "code",
   "execution_count": 8,
   "metadata": {},
   "outputs": [],
   "source": [
    "model_dir = \"'/beegfs/ci411/pcen/models/models_807'\"\n",
    "model_label = '_model807'\n",
    "script_dir = \"models_807\"\n",
    "traindir = \"/beegfs/ci411/pcen/features_807/pcen\"\n",
    "unpitchdir = \"/beegfs/ci411/pcen/features_807/unpitched/pcen\"\n",
    "\n",
    "trainsets = {'dry_':['URBAN-SED_dry'],\\\n",
    "             'realreverb_':['URBAN-SED_dry', 'URBAN-SED_alley','URBAN-SED_bedroom','URBAN-SED_tunnel'],\\\n",
    "             'simreverb_':['URBAN-SED_dry','URBAN-SED_sim_short','URBAN-SED_sim_medium','URBAN-SED_sim_long'],\n",
    "             'wet_':['URBAN-SED_dry','URBAN-SED_sim_short','URBAN-SED_sim_medium','URBAN-SED_sim_long',\\\n",
    "                     'URBAN-SED_alley','URBAN-SED_bedroom','URBAN-SED_tunnel']}\n",
    "\n",
    "for trainset in list(trainsets.keys()):\n",
    "    for slices in slices_all_variations:\n",
    "        slice_str = ''.join(map(str, slices))\n",
    "        name = trainset + slice_str\n",
    "        modelname = name+model_label\n",
    "        train_name = 'sbatch_scripts_pcen/train_'+modelname+'.sbatch'\n",
    "        eval_name = 'sbatch_scripts_pcen/eval_'+modelname+'.sbatch'\n",
    "        eval_name_short = 'eval_'+modelname+ '.sbatch'\n",
    "        slice_list_str = str(slices).replace(' ','')\n",
    "        trainfeatures = trainsets[trainset]\n",
    "        trainfeatures = str(trainfeatures).replace(' ', '')\n",
    "        \n",
    "        train_script = base_script_train_pcen.format(jobname=name, outputname=name, slices=slice_list_str, modelname=modelname,\\\n",
    "                                                        trainfeatures=trainfeatures, modeldir=model_dir, scriptdir=script_dir,\\\n",
    "                                                        eval_script=eval_name_short, traindir=traindir, valdir=unpitchdir)\n",
    "        eval_script = base_script_eval_pcen.format(jobname=name, outputname=name, slices=slice_list_str, modelname=modelname,\\\n",
    "                                                      trainfeatures=trainfeatures, modeldir=model_dir, testdir=unpitchdir)\n",
    "\n",
    "\n",
    "        with open(train_name, 'w+') as f:\n",
    "            f.write(train_script)\n",
    "            \n",
    "        with open(eval_name, 'w+') as f:\n",
    "            f.write(eval_script)"
   ]
  },
  {
   "cell_type": "code",
   "execution_count": 9,
   "metadata": {},
   "outputs": [
    {
     "name": "stdout",
     "output_type": "stream",
     "text": [
      "['train_realreverb_2_model807.sbatch', 'train_simreverb_12345678_model807.sbatch', 'train_wet_5_model807.sbatch', 'train_realreverb_01234_model807.sbatch', 'train_dry_4_model807.sbatch', 'train_realreverb_01234567_model807.sbatch', 'train_wet_234567_model807.sbatch', 'train_simreverb_5_model807.sbatch', 'train_dry_12345678_model807.sbatch', 'train_simreverb_0123456789_model807.sbatch', 'train_wet_0123_model807.sbatch', 'train_wet_4_model807.sbatch', 'train_realreverb_012345_model807.sbatch', 'train_dry_0123_model807.sbatch', 'train_realreverb_012345678_model807.sbatch', 'train_realreverb_3_model807.sbatch', 'train_simreverb_4_model807.sbatch', 'train_simreverb_3456_model807.sbatch', 'train_realreverb_01_model807.sbatch', 'train_dry_5_model807.sbatch', 'train_simreverb_234567_model807.sbatch', 'train_wet_012_model807.sbatch', 'train_wet_9_model807.sbatch', 'train_simreverb_7_model807.sbatch', 'train_dry_012_model807.sbatch', 'train_simreverb_0123456_model807.sbatch', 'train_dry_6_model807.sbatch', 'train_wet_45_model807.sbatch', 'train_wet_7_model807.sbatch', 'train_simreverb_9_model807.sbatch', 'train_realreverb_0_model807.sbatch', 'train_dry_8_model807.sbatch', 'train_dry_234567_model807.sbatch', 'train_dry_7_model807.sbatch', 'train_dry_01_model807.sbatch', 'train_dry_0123456789_model807.sbatch', 'train_realreverb_3456_model807.sbatch', 'train_wet_8_model807.sbatch', 'train_simreverb_45_model807.sbatch', 'train_wet_01234567_model807.sbatch', 'train_simreverb_6_model807.sbatch', 'train_simreverb_012_model807.sbatch', 'train_dry_9_model807.sbatch', 'train_dry_012345678_model807.sbatch', 'train_realreverb_1_model807.sbatch', 'train_wet_6_model807.sbatch', 'train_simreverb_8_model807.sbatch', 'train_wet_0123456789_model807.sbatch', 'train_simreverb_012345678_model807.sbatch', 'train_dry_45_model807.sbatch', 'train_realreverb_012_model807.sbatch', 'train_simreverb_0123_model807.sbatch', 'train_simreverb_0_model807.sbatch', 'train_simreverb_01_model807.sbatch', 'train_realreverb_9_model807.sbatch', 'train_dry_1_model807.sbatch', 'train_wet_3456_model807.sbatch', 'train_wet_0_model807.sbatch', 'train_dry_3456_model807.sbatch', 'train_simreverb_01234_model807.sbatch', 'train_realreverb_7_model807.sbatch', 'train_dry_01234_model807.sbatch', 'train_wet_0123456_model807.sbatch', 'train_dry_0_model807.sbatch', 'train_simreverb_01234567_model807.sbatch', 'train_realreverb_8_model807.sbatch', 'train_simreverb_1_model807.sbatch', 'train_dry_0123456_model807.sbatch', 'train_dry_012345_model807.sbatch', 'train_wet_01_model807.sbatch', 'train_realreverb_6_model807.sbatch', 'train_dry_01234567_model807.sbatch', 'train_wet_1_model807.sbatch', 'train_realreverb_12345678_model807.sbatch', 'train_realreverb_5_model807.sbatch', 'train_realreverb_0123456_model807.sbatch', 'train_simreverb_012345_model807.sbatch', 'train_wet_12345678_model807.sbatch', 'train_wet_2_model807.sbatch', 'train_realreverb_234567_model807.sbatch', 'train_realreverb_0123_model807.sbatch', 'train_dry_3_model807.sbatch', 'train_realreverb_45_model807.sbatch', 'train_simreverb_2_model807.sbatch', 'train_wet_3_model807.sbatch', 'train_realreverb_0123456789_model807.sbatch', 'train_realreverb_4_model807.sbatch', 'train_wet_012345_model807.sbatch', 'train_wet_01234_model807.sbatch', 'train_wet_012345678_model807.sbatch', 'train_simreverb_3_model807.sbatch', 'train_dry_2_model807.sbatch']\n"
     ]
    }
   ],
   "source": [
    "train_scripts = [item for item in os.listdir('./sbatch_scripts_pcen/') if 'train' in item]\n",
    "print(train_scripts)\n",
    "with open('./sbatch_scripts_pcen/0run_all.bat', 'w+') as f:\n",
    "    for script in train_scripts:\n",
    "        f.write('sbatch {}\\n'.format(script))"
   ]
  },
  {
   "cell_type": "code",
   "execution_count": 10,
   "metadata": {},
   "outputs": [
    {
     "name": "stdout",
     "output_type": "stream",
     "text": [
      "['eval_simreverb_0123456_model807.sbatch', 'eval_dry_0_model807.sbatch', 'eval_realreverb_45_model807.sbatch', 'eval_wet_234567_model807.sbatch', 'eval_simreverb_7_model807.sbatch', 'eval_realreverb_8_model807.sbatch', 'eval_dry_01234567_model807.sbatch', '1eval_all.bat', 'eval_realreverb_0123456789_model807.sbatch', 'eval_wet_1_model807.sbatch', 'eval_simreverb_9_model807.sbatch', 'eval_realreverb_6_model807.sbatch', 'eval_dry_01_model807.sbatch', 'eval_simreverb_01_model807.sbatch', 'eval_simreverb_6_model807.sbatch', 'eval_realreverb_9_model807.sbatch', 'eval_wet_0123456789_model807.sbatch', 'eval_dry_1_model807.sbatch', 'eval_realreverb_0123_model807.sbatch', 'eval_wet_45_model807.sbatch', 'eval_simreverb_8_model807.sbatch', 'eval_simreverb_12345678_model807.sbatch', 'eval_wet_0_model807.sbatch', 'eval_wet_012345678_model807.sbatch', 'eval_wet_01234_model807.sbatch', 'eval_realreverb_7_model807.sbatch', 'eval_dry_0123456789_model807.sbatch', 'eval_realreverb_012345678_model807.sbatch', 'eval_dry_0123_model807.sbatch', 'eval_wet_0123_model807.sbatch', 'eval_realreverb_4_model807.sbatch', 'eval_dry_01234_model807.sbatch', 'eval_wet_3_model807.sbatch', 'eval_dry_234567_model807.sbatch', 'eval_realreverb_01234_model807.sbatch', 'eval_simreverb_5_model807.sbatch', 'eval_realreverb_12345678_model807.sbatch', 'eval_dry_2_model807.sbatch', 'eval_simreverb_012345678_model807.sbatch', 'eval_wet_12345678_model807.sbatch', 'eval_realreverb_5_model807.sbatch', 'eval_realreverb_012345_model807.sbatch', 'eval_wet_2_model807.sbatch', 'eval_simreverb_3456_model807.sbatch', 'eval_simreverb_01234_model807.sbatch', 'eval_dry_3_model807.sbatch', 'eval_simreverb_0123456789_model807.sbatch', 'eval_simreverb_234567_model807.sbatch', 'eval_simreverb_4_model807.sbatch', 'eval_realreverb_3_model807.sbatch', 'eval_wet_4_model807.sbatch', 'eval_dry_012_model807.sbatch', 'eval_simreverb_012345_model807.sbatch', 'eval_simreverb_01234567_model807.sbatch', 'eval_simreverb_2_model807.sbatch', 'eval_realreverb_234567_model807.sbatch', 'eval_realreverb_3456_model807.sbatch', 'eval_dry_5_model807.sbatch', 'eval_dry_012345678_model807.sbatch', 'eval_realreverb_2_model807.sbatch', 'eval_wet_5_model807.sbatch', 'eval_dry_4_model807.sbatch', 'eval_dry_12345678_model807.sbatch', 'eval_simreverb_012_model807.sbatch', 'eval_simreverb_3_model807.sbatch', 'eval_dry_012345_model807.sbatch', 'eval_wet_01234567_model807.sbatch', 'eval_simreverb_45_model807.sbatch', 'eval_dry_7_model807.sbatch', 'eval_simreverb_0_model807.sbatch', 'eval_wet_8_model807.sbatch', 'eval_wet_01_model807.sbatch', 'eval_dry_9_model807.sbatch', 'eval_wet_0123456_model807.sbatch', 'eval_realreverb_012_model807.sbatch', 'eval_wet_6_model807.sbatch', 'eval_realreverb_1_model807.sbatch', 'eval_simreverb_0123_model807.sbatch', 'eval_dry_0123456_model807.sbatch', 'eval_wet_9_model807.sbatch', 'eval_simreverb_1_model807.sbatch', 'eval_realreverb_01_model807.sbatch', 'eval_dry_6_model807.sbatch', 'eval_wet_7_model807.sbatch', 'eval_dry_3456_model807.sbatch', 'eval_realreverb_0_model807.sbatch', 'eval_realreverb_0123456_model807.sbatch', 'eval_wet_012_model807.sbatch', 'eval_wet_3456_model807.sbatch', 'eval_wet_012345_model807.sbatch', 'eval_dry_8_model807.sbatch', 'eval_realreverb_01234567_model807.sbatch', 'eval_dry_45_model807.sbatch']\n"
     ]
    }
   ],
   "source": [
    "eval_scripts = [item for item in os.listdir('./sbatch_scripts_pcen/') if 'eval' in item]\n",
    "print(eval_scripts)\n",
    "with open('./sbatch_scripts_pcen/1eval_all.bat', 'w+') as f:\n",
    "    for script in eval_scripts:\n",
    "        f.write('sbatch {}\\n'.format(script))"
   ]
  },
  {
   "cell_type": "code",
   "execution_count": 11,
   "metadata": {},
   "outputs": [],
   "source": [
    "base_script_train_mel = \"\"\"#!/bin/bash\n",
    "\n",
    "#SBATCH --job-name={jobname}\n",
    "#SBATCH --nodes=1\n",
    "#SBATCH --cpus-per-task=4\n",
    "#SBATCH --mem=16GB\n",
    "#SBATCH --time=100:00:00\n",
    "#SBATCH --mail-user=chris.ick@nyu.edu\n",
    "#SBATCH --output=\"outputs/o{outputname}-%j.out\"\n",
    "#SBATCH --export=NONE\n",
    "#SBATCH --gres=gpu:1\n",
    "\n",
    "module purge\n",
    "module load anaconda3/4.3.1\n",
    "module load sox/intel/14.4.2\n",
    "module load ffmpeg/intel/3.2.2\n",
    "module load cuda/10.1.105\n",
    "module load cudnn/10.1v7.6.5.32\n",
    "\n",
    "source activate py3.8\n",
    "\n",
    "MODELNAME='{modelname}'\n",
    "MODELDIR={modeldir}\n",
    "TRAINFEATURENAMES=\"{trainfeatures}\"\n",
    "\n",
    "cd /home/ci411/pcen-t-varying/scripts/core_scripts\n",
    "\n",
    "python 02_train.py --model-id=$MODELNAME --model-dir=$MODELDIR --training-dir=\"{traindir}\" --validation-dir=\"{valdir}\" --feature-names=$TRAINFEATURENAMES --load-pump='/beegfs/ci411/pcen/pumps/mel'\n",
    "cd /home/ci411/pcen-t-varying/scripts/{scriptdir}/sbatch_scripts_mel/\n",
    "sbatch {eval_script}\"\"\"\n",
    "\n",
    "\n",
    "base_script_eval_mel = \"\"\"#!/bin/bash\n",
    "\n",
    "#SBATCH --job-name={jobname}\n",
    "#SBATCH --nodes=1\n",
    "#SBATCH --cpus-per-task=4\n",
    "#SBATCH --mem=16GB\n",
    "#SBATCH --time=100:00:00\n",
    "#SBATCH --mail-user=chris.ick@nyu.edu\n",
    "#SBATCH --export=NONE\n",
    "#SBATCH --output=\"outputs/o{outputname}-%j.out\"\n",
    "\n",
    "module purge\n",
    "module load anaconda3/4.3.1\n",
    "module load sox/intel/14.4.2\n",
    "module load ffmpeg/intel/3.2.2\n",
    "module load cuda/10.1.105\n",
    "module load cudnn/10.1v7.6.5.32\n",
    "\n",
    "\n",
    "source activate py3.8\n",
    "\n",
    "MODELNAME='{modelname}'\n",
    "MODELDIR={modeldir}\n",
    "FEATUREDIR='{testdir}'\n",
    "\n",
    "cd /home/ci411/pcen-t-varying/scripts/core_scripts\n",
    "\n",
    "python 03_evaluate.py --n-samples=100 --model-id=$MODELNAME --model-dir=$MODELDIR --feature-dir=$FEATUREDIR --feature-names=\"['URBAN-SED_dry']\" --results-name='results_dry'\n",
    "python 03_evaluate.py --n-samples=100 --model-id=$MODELNAME --model-dir=$MODELDIR --feature-dir=$FEATUREDIR --feature-names=\"['URBAN-SED_dry','URBAN-SED_sim_short','URBAN-SED_sim_medium','URBAN-SED_sim_long','URBAN-SED_alley','URBAN-SED_bedroom','URBAN-SED_tunnel']\" --results-name='results_wet'\n",
    "python 03_evaluate.py --n-samples=100 --model-id=$MODELNAME --model-dir=$MODELDIR --feature-dir=$FEATUREDIR --feature-names=\"['URBAN-SED_sim_short']\" --results-name='results_short'\n",
    "python 03_evaluate.py --n-samples=100 --model-id=$MODELNAME --model-dir=$MODELDIR --feature-dir=$FEATUREDIR --feature-names=\"['URBAN-SED_sim_medium']\" --results-name='results_medium'\n",
    "python 03_evaluate.py --n-samples=100 --model-id=$MODELNAME --model-dir=$MODELDIR --feature-dir=$FEATUREDIR --feature-names=\"['URBAN-SED_sim_long']\" --results-name='results_long'\n",
    "python 03_evaluate.py --n-samples=100 --model-id=$MODELNAME --model-dir=$MODELDIR --feature-dir=$FEATUREDIR --feature-names=\"['URBAN-SED_alley']\" --results-name='results_alley'\n",
    "python 03_evaluate.py --n-samples=100 --model-id=$MODELNAME --model-dir=$MODELDIR --feature-dir=$FEATUREDIR --feature-names=\"['URBAN-SED_bedroom']\" --results-name='results_bedroom'\n",
    "python 03_evaluate.py --n-samples=100 --model-id=$MODELNAME --model-dir=$MODELDIR --feature-dir=$FEATUREDIR --feature-names=\"['URBAN-SED_tunnel']\" --results-name='results_tunnel'\n",
    "\n",
    "\"\"\""
   ]
  },
  {
   "cell_type": "code",
   "execution_count": 15,
   "metadata": {},
   "outputs": [],
   "source": [
    "model_dir = \"'/beegfs/ci411/pcen/models/models_807'\"\n",
    "model_label = '_model807'\n",
    "script_dir = \"models_807\"\n",
    "traindir = \"/beegfs/ci411/pcen/features_807/mel\"\n",
    "unpitchdir = \"/beegfs/ci411/pcen/features_807/unpitched/mel\"\n",
    "\n",
    "trainsets = {'dry_':['URBAN-SED_dry'],\\\n",
    "             'realreverb_':['URBAN-SED_dry', 'URBAN-SED_alley','URBAN-SED_bedroom','URBAN-SED_tunnel'],\\\n",
    "             'simreverb_':['URBAN-SED_dry','URBAN-SED_sim_short','URBAN-SED_sim_medium','URBAN-SED_sim_long'],\n",
    "             'wet_':['URBAN-SED_dry','URBAN-SED_sim_short','URBAN-SED_sim_medium','URBAN-SED_sim_long',\\\n",
    "                     'URBAN-SED_alley','URBAN-SED_bedroom','URBAN-SED_tunnel']}\n",
    "\n",
    "for trainset in list(trainsets.keys()):\n",
    "    name = trainset + 'mel'\n",
    "    modelname = name+model_label\n",
    "    train_name = 'sbatch_scripts_mel/train_'+modelname+'.sbatch'\n",
    "    eval_name = 'sbatch_scripts_mel/eval_'+modelname+'.sbatch'\n",
    "    eval_name_short = 'eval_'+modelname+ '.sbatch'\n",
    "    slice_list_str = str(slices).replace(' ','')\n",
    "    trainfeatures = trainsets[trainset]\n",
    "    trainfeatures = str(trainfeatures).replace(' ', '')\n",
    "\n",
    "    train_script = base_script_train_mel.format(jobname=name, outputname=name, modelname=modelname,\\\n",
    "                                                        trainfeatures=trainfeatures, modeldir=model_dir, scriptdir=script_dir,\\\n",
    "                                                        eval_script=eval_name_short, traindir=traindir, valdir=unpitchdir)\n",
    "    eval_script = base_script_eval_mel.format(jobname=name, outputname=name, modelname=modelname,\\\n",
    "                                                      trainfeatures=trainfeatures, modeldir=model_dir,\\\n",
    "                                                      testdir=unpitchdir)\n",
    "\n",
    "\n",
    "    with open(train_name, 'w+') as f:\n",
    "        f.write(train_script)\n",
    "\n",
    "    with open(eval_name, 'w+') as f:\n",
    "        f.write(eval_script)"
   ]
  },
  {
   "cell_type": "code",
   "execution_count": 16,
   "metadata": {},
   "outputs": [
    {
     "name": "stdout",
     "output_type": "stream",
     "text": [
      "['train_simreverb_mel_model807.sbatch', 'train_realreverb_mel_model807.sbatch', 'train_wet_mel_model807.sbatch', 'train_dry_mel_model807.sbatch']\n"
     ]
    }
   ],
   "source": [
    "train_scripts = [item for item in os.listdir('./sbatch_scripts_mel/') if 'train' in item]\n",
    "print(train_scripts)\n",
    "with open('./sbatch_scripts_mel/0run_all.bat', 'w+') as f:\n",
    "    for script in train_scripts:\n",
    "        f.write('sbatch {}\\n'.format(script))"
   ]
  },
  {
   "cell_type": "code",
   "execution_count": 17,
   "metadata": {},
   "outputs": [
    {
     "name": "stdout",
     "output_type": "stream",
     "text": [
      "['eval_wet_mel_model807.sbatch', 'eval_dry_mel_model807.sbatch', 'eval_simreverb_mel_model807.sbatch', '1eval_all.bat', 'eval_realreverb_mel_model807.sbatch']\n"
     ]
    }
   ],
   "source": [
    "eval_scripts = [item for item in os.listdir('./sbatch_scripts_mel/') if 'eval' in item]\n",
    "print(eval_scripts)\n",
    "with open('./sbatch_scripts_mel/1eval_all.bat', 'w+') as f:\n",
    "    for script in eval_scripts:\n",
    "        f.write('sbatch {}\\n'.format(script))"
   ]
  },
  {
   "cell_type": "code",
   "execution_count": null,
   "metadata": {},
   "outputs": [],
   "source": []
  },
  {
   "cell_type": "code",
   "execution_count": null,
   "metadata": {},
   "outputs": [],
   "source": []
  },
  {
   "cell_type": "code",
   "execution_count": null,
   "metadata": {},
   "outputs": [],
   "source": []
  }
 ],
 "metadata": {
  "kernelspec": {
   "display_name": "Python 3",
   "language": "python",
   "name": "python3"
  },
  "language_info": {
   "codemirror_mode": {
    "name": "ipython",
    "version": 3
   },
   "file_extension": ".py",
   "mimetype": "text/x-python",
   "name": "python",
   "nbconvert_exporter": "python",
   "pygments_lexer": "ipython3",
   "version": "3.8.2"
  }
 },
 "nbformat": 4,
 "nbformat_minor": 4
}
