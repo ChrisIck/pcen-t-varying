{
 "cells": [
  {
   "cell_type": "code",
   "execution_count": 1,
   "metadata": {
    "collapsed": true
   },
   "outputs": [],
   "source": [
    "import numpy as np\n",
    "import os"
   ]
  },
  {
   "cell_type": "code",
   "execution_count": 2,
   "metadata": {
    "collapsed": true
   },
   "outputs": [],
   "source": [
    "base_script = \"\"\"#!/bin/bash\n",
    "\n",
    "#SBATCH --job-name={}\n",
    "#SBATCH --nodes=1\n",
    "#SBATCH --cpus-per-task=4\n",
    "#SBATCH --mem=16GB\n",
    "#SBATCH --gres=gpu:1\n",
    "#SBATCH --time=100:00:00\n",
    "#SBATCH --mail-user=chris.ick@nyu.edu\n",
    "#SBATCH --output=\"o{}-%j.out\"\n",
    "\n",
    "module purge\n",
    "module load anaconda3/4.3.1\n",
    "module load sox/intel/14.4.2\n",
    "module load ffmpeg/intel/3.2.2\n",
    "module load cuda/10.1.105\n",
    "module load cudnn/10.0v7.6.2.24\n",
    "\n",
    "source activate py3.5\n",
    "\n",
    "SLICES='{}'\n",
    "MODELNAME='{}'\n",
    "TRAINFEATURENAMES=\"{}\"\n",
    "FULLFEATURENAMES=\"{}\"\n",
    "\n",
    "cd /home/ci411/pcen-t-varying/scripts/core_scripts\n",
    "\n",
    "python 02_train.py --slices=$SLICES --model-id=$MODELNAME --model-dir='/beegfs/ci411/pcen/models/models_122' --feature-dir='/beegfs/ci411/pcen/features/' --feature-names=$TRAINFEATURENAMES --load-pump='/beegfs/ci411/pcen/pumps/full_test'\n",
    "python 03_evaluate.py --slices=$SLICES --model-id=$MODELNAME --model-dir='/beegfs/ci411/pcen/models/models_122' --feature-dir='/beegfs/ci411/pcen/features/' --feature-names=$FULLFEATURENAMES\"\"\""
   ]
  },
  {
   "cell_type": "code",
   "execution_count": 3,
   "metadata": {
    "collapsed": true
   },
   "outputs": [],
   "source": [
    "#{name, name, slices, modelname, trainfeatures, fullfeatures}"
   ]
  },
  {
   "cell_type": "code",
   "execution_count": 4,
   "metadata": {
    "collapsed": true
   },
   "outputs": [],
   "source": [
    "file_out = 'test.sbatch'\n",
    "train_features = ['URBAN-SED_dry']\n",
    "full_features = ['URBAN-SED_dry','URBAN-SED_sim_short','URBAN-SED_sim_medium','URBAN-SED_sim_long','URBAN-SED_alley','URBAN-SED_bedroom','URBAN-SED_tunnel']\n",
    "full_features_str = str(full_features).replace(' ','')\n",
    "with open(file_out, 'w+') as f:\n",
    "    f.write(base_script.format('test', 'test', '[0,3,5]', 'test_model', train_features, full_features_str))"
   ]
  },
  {
   "cell_type": "code",
   "execution_count": 6,
   "metadata": {},
   "outputs": [
    {
     "name": "stdout",
     "output_type": "stream",
     "text": [
      "[[0], [0, 1], [0, 1, 2], [0, 1, 2, 3], [0, 1, 2, 3, 4], [0, 1, 2, 3, 4, 5], [0, 1, 2, 3, 4, 5, 6], [0, 1, 2, 3, 4, 5, 6, 7], [0, 1, 2, 3, 4, 5, 6, 7, 8], [0, 1, 2, 3, 4, 5, 6, 7, 8, 9], [4, 5], [3, 4, 5, 6], [2, 3, 4, 5, 6, 7], [1, 2, 3, 4, 5, 6, 7, 8]]\n"
     ]
    }
   ],
   "source": [
    "#slice variations\n",
    "slice_variations = [list(np.arange(n+1)) for n in range(10)]\n",
    "\n",
    "slice_variations_2 = [list(np.arange(n, 10-n)) for n in range(4,0,-1)]\n",
    "\n",
    "slices_all_variations = slice_variations+slice_variations_2\n",
    "print(slices_all_variations)"
   ]
  },
  {
   "cell_type": "code",
   "execution_count": 7,
   "metadata": {},
   "outputs": [
    {
     "name": "stdout",
     "output_type": "stream",
     "text": [
      "[[0], [1], [2], [3], [4], [5], [6], [7], [8], [9]]\n"
     ]
    }
   ],
   "source": [
    "slices_all_variations = [[i] for i in range(10)]\n",
    "print(slices_all_variations)"
   ]
  },
  {
   "cell_type": "code",
   "execution_count": 8,
   "metadata": {
    "collapsed": true
   },
   "outputs": [],
   "source": [
    "#make dry scripts\n",
    "train_features = ['URBAN-SED_dry']\n",
    "full_features = ['URBAN-SED_dry','URBAN-SED_sim_short','URBAN-SED_sim_medium','URBAN-SED_sim_long','URBAN-SED_alley','URBAN-SED_bedroom','URBAN-SED_tunnel']\n",
    "full_features_str = str(full_features).replace(' ','')\n",
    "for slices in slices_all_variations:\n",
    "    slice_str = ''.join(map(str, slices))\n",
    "    name = 'dry'+slice_str\n",
    "    modelname = \"model122_dry_\" + slice_str\n",
    "    filename = modelname + '.sbatch'\n",
    "    slice_list_str = str(slices).replace(' ','')\n",
    "    sbatch_str = base_script.format(name,name,slice_list_str,modelname,train_features,full_features_str)\n",
    "    with open(filename, 'w+') as f:\n",
    "        f.write(sbatch_str)"
   ]
  },
  {
   "cell_type": "code",
   "execution_count": 9,
   "metadata": {
    "collapsed": true
   },
   "outputs": [],
   "source": [
    "#make wet scripts\n",
    "for slices in slices_all_variations:\n",
    "    slice_str = ''.join(map(str, slices))\n",
    "    name = 'wet'+slice_str\n",
    "    modelname = \"model122_wet_\" + slice_str\n",
    "    filename = modelname + '.sbatch'\n",
    "    slice_list_str = str(slices).replace(' ','')\n",
    "    #make training/testing features the full set\n",
    "    sbatch_str = base_script.format(name,name,slice_list_str,modelname,full_features_str,full_features_str)\n",
    "    with open(filename, 'w+') as f:\n",
    "        f.write(sbatch_str)"
   ]
  },
  {
   "cell_type": "code",
   "execution_count": 10,
   "metadata": {
    "collapsed": true
   },
   "outputs": [],
   "source": [
    "os.listdir()\n",
    "models = [item for item in os.listdir() if \"model122\" in item and '.sbatch' in item]"
   ]
  },
  {
   "cell_type": "code",
   "execution_count": 11,
   "metadata": {},
   "outputs": [
    {
     "data": {
      "text/plain": [
       "['model122_dry_0.sbatch',\n",
       " 'model122_dry_01.sbatch',\n",
       " 'model122_dry_012.sbatch',\n",
       " 'model122_dry_0123.sbatch',\n",
       " 'model122_dry_01234.sbatch',\n",
       " 'model122_dry_012345.sbatch',\n",
       " 'model122_dry_0123456.sbatch',\n",
       " 'model122_dry_01234567.sbatch',\n",
       " 'model122_dry_012345678.sbatch',\n",
       " 'model122_dry_0123456789.sbatch',\n",
       " 'model122_dry_1.sbatch',\n",
       " 'model122_dry_12345678.sbatch',\n",
       " 'model122_dry_2.sbatch',\n",
       " 'model122_dry_234567.sbatch',\n",
       " 'model122_dry_3.sbatch',\n",
       " 'model122_dry_3456.sbatch',\n",
       " 'model122_dry_4.sbatch',\n",
       " 'model122_dry_45.sbatch',\n",
       " 'model122_dry_5.sbatch',\n",
       " 'model122_dry_6.sbatch',\n",
       " 'model122_dry_7.sbatch',\n",
       " 'model122_dry_8.sbatch',\n",
       " 'model122_dry_9.sbatch',\n",
       " 'model122_wet_0.sbatch',\n",
       " 'model122_wet_01.sbatch',\n",
       " 'model122_wet_012.sbatch',\n",
       " 'model122_wet_0123.sbatch',\n",
       " 'model122_wet_01234.sbatch',\n",
       " 'model122_wet_012345.sbatch',\n",
       " 'model122_wet_0123456.sbatch',\n",
       " 'model122_wet_01234567.sbatch',\n",
       " 'model122_wet_012345678.sbatch',\n",
       " 'model122_wet_0123456789.sbatch',\n",
       " 'model122_wet_1.sbatch',\n",
       " 'model122_wet_12345678.sbatch',\n",
       " 'model122_wet_2.sbatch',\n",
       " 'model122_wet_234567.sbatch',\n",
       " 'model122_wet_3.sbatch',\n",
       " 'model122_wet_3456.sbatch',\n",
       " 'model122_wet_4.sbatch',\n",
       " 'model122_wet_45.sbatch',\n",
       " 'model122_wet_5.sbatch',\n",
       " 'model122_wet_6.sbatch',\n",
       " 'model122_wet_7.sbatch',\n",
       " 'model122_wet_8.sbatch',\n",
       " 'model122_wet_9.sbatch']"
      ]
     },
     "execution_count": 11,
     "metadata": {},
     "output_type": "execute_result"
    }
   ],
   "source": [
    "models.sort()\n",
    "models"
   ]
  },
  {
   "cell_type": "code",
   "execution_count": 77,
   "metadata": {
    "collapsed": true
   },
   "outputs": [],
   "source": [
    "with open('runall.bat', 'w+') as f:\n",
    "    for model in models:\n",
    "        f.write('sbatch '+ model + '\\n')\n",
    "        "
   ]
  },
  {
   "cell_type": "code",
   "execution_count": 12,
   "metadata": {
    "collapsed": true
   },
   "outputs": [],
   "source": [
    "with open('runsingle.bat', 'w+') as f:\n",
    "    for i in range(10):\n",
    "        for term in ['wet','dry']:\n",
    "            f.write('sbatch model122_' + term + '_' + str(i) +'.sbatch\\n')"
   ]
  }
 ],
 "metadata": {
  "kernelspec": {
   "display_name": "Python 3",
   "language": "python",
   "name": "python3"
  },
  "language_info": {
   "codemirror_mode": {
    "name": "ipython",
    "version": 3
   },
   "file_extension": ".py",
   "mimetype": "text/x-python",
   "name": "python",
   "nbconvert_exporter": "python",
   "pygments_lexer": "ipython3",
   "version": "3.6.2"
  }
 },
 "nbformat": 4,
 "nbformat_minor": 2
}
