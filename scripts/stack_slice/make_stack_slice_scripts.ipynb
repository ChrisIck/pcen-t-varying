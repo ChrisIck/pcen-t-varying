{
 "cells": [
  {
   "cell_type": "code",
   "execution_count": 3,
   "metadata": {
    "collapsed": true
   },
   "outputs": [],
   "source": [
    "full_script = \"\"\"#!/bin/bash\n",
    "\n",
    "#SBATCH --job-name={0}\n",
    "#SBATCH --nodes=1\n",
    "#SBATCH --cpus-per-task=4\n",
    "#SBATCH --mem=16GB\n",
    "#SBATCH --time=100:00:00\n",
    "#SBATCH --mail-user=chris.ick@nyu.edu\n",
    "#SBATCH --output=\"{0}--%j.out\"\n",
    "\n",
    "module purge\n",
    "module load cuda/8.0.44\n",
    "module load cudnn/8.0v6.0\n",
    "\n",
    "module load anaconda3/4.3.1\n",
    "source activate py3.5\n",
    "\n",
    "\n",
    "cd /home/ci411/pcen-t-varying/scripts/\n",
    "python 02_train.py --model-id='{1}' --feature-dir='/beegfs/ci411/pcen/features/full_test' --load-pump='/beegfs/ci411/pcen/pumps/full_test' --slices='{2}'\n",
    "python 03_evaluate.py --model-id='{1}' --feature-dir='/beegfs/ci411/pcen/features/full_test' --slices='{2}'\"\"\""
   ]
  },
  {
   "cell_type": "code",
   "execution_count": 4,
   "metadata": {
    "collapsed": true
   },
   "outputs": [],
   "source": [
    "for i in range(10):\n",
    "    filename = 'stack_slice_{}.sbatch'.format(i)\n",
    "    jobname = 'stack{}'.format(i)\n",
    "    modelid = 'model_stack_{}'.format(i)\n",
    "    slices = [j for j in range(i+1)]\n",
    "    with open(filename, 'w') as fd:\n",
    "        fd.write(full_script.format(jobname, modelid, slices))\n",
    "    "
   ]
  },
  {
   "cell_type": "code",
   "execution_count": null,
   "metadata": {
    "collapsed": true
   },
   "outputs": [],
   "source": []
  }
 ],
 "metadata": {
  "kernelspec": {
   "display_name": "Python 3",
   "language": "python",
   "name": "python3"
  },
  "language_info": {
   "codemirror_mode": {
    "name": "ipython",
    "version": 3
   },
   "file_extension": ".py",
   "mimetype": "text/x-python",
   "name": "python",
   "nbconvert_exporter": "python",
   "pygments_lexer": "ipython3",
   "version": "3.6.2"
  }
 },
 "nbformat": 4,
 "nbformat_minor": 2
}
