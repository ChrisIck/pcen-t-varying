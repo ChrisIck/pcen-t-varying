{
 "cells": [
  {
   "cell_type": "code",
   "execution_count": 2,
   "metadata": {},
   "outputs": [],
   "source": [
    "import numpy as np\n",
    "import os"
   ]
  },
  {
   "cell_type": "code",
   "execution_count": 3,
   "metadata": {},
   "outputs": [],
   "source": [
    "base_script = \"\"\"#!/bin/bash\n",
    "\n",
    "#SBATCH --job-name={}\n",
    "#SBATCH --nodes=1\n",
    "#SBATCH --cpus-per-task=4\n",
    "#SBATCH --mem=16GB\n",
    "#SBATCH --gres=gpu:1\n",
    "#SBATCH --time=100:00:00\n",
    "#SBATCH --mail-user=chris.ick@nyu.edu\n",
    "#SBATCH --output=\"o{}-%j.out\"\n",
    "\n",
    "module purge\n",
    "module load anaconda3/4.3.1\n",
    "module load sox/intel/14.4.2\n",
    "module load ffmpeg/intel/3.2.2\n",
    "module load cuda/10.1.105\n",
    "module load cudnn/10.0v7.6.2.24\n",
    "\n",
    "source activate py3.5\n",
    "\n",
    "SLICES='{}'\n",
    "MODELNAME='{}'\n",
    "TRAINFEATURENAMES=\"{}\"\n",
    "FULLFEATURENAMES=\"{}\"\n",
    "\n",
    "\n",
    "cd /home/ci411/pcen-t-varying/scripts/core_scripts\n",
    "\n",
    "python 02_train.py --slices=$SLICES --model-id=$MODELNAME --model-dir='/beegfs/ci411/pcen/models/models_210' --feature-dir='/beegfs/ci411/pcen/features/' --feature-names=$TRAINFEATURENAMES --load-pump='/beegfs/ci411/pcen/pumps/full_test'\n",
    "python 03_evaluate.py --slices=$SLICES --model-id=$MODELNAME --model-dir='/beegfs/ci411/pcen/models/models_210' --feature-dir='/beegfs/ci411/pcen/features/' --feature-names=$FULLFEATURENAMES\n",
    "python 03_evaluate.py --slices=$SLICES --model-id=$MODELNAME --model-dir='/beegfs/ci411/pcen/models/models_210' --feature-dir='/beegfs/ci411/pcen/features/' --results-name='results_dry'\"\"\""
   ]
  },
  {
   "cell_type": "code",
   "execution_count": 4,
   "metadata": {},
   "outputs": [],
   "source": [
    "#{name, name, slices, modelname, trainfeatures, fullfeatures}"
   ]
  },
  {
   "cell_type": "code",
   "execution_count": 8,
   "metadata": {},
   "outputs": [],
   "source": [
    "file_out = 'test0_default.sbatch'\n",
    "train_features = ['URBAN-SED_dry']\n",
    "full_features = ['URBAN-SED_dry','URBAN-SED_sim_short','URBAN-SED_sim_medium','URBAN-SED_sim_long','URBAN-SED_alley','URBAN-SED_bedroom','URBAN-SED_tunnel']\n",
    "full_features_str = str(full_features).replace(' ','')\n",
    "run_name = 'test0_default'\n",
    "with open(file_out, 'w+') as f:\n",
    "    f.write(base_script.format(run_name, run_name, '[0,3,5]', run_name, train_features, full_features_str))"
   ]
  },
  {
   "cell_type": "code",
   "execution_count": null,
   "metadata": {},
   "outputs": [],
   "source": []
  }
 ],
 "metadata": {
  "kernelspec": {
   "display_name": "Python 3",
   "language": "python",
   "name": "python3"
  },
  "language_info": {
   "codemirror_mode": {
    "name": "ipython",
    "version": 3
   },
   "file_extension": ".py",
   "mimetype": "text/x-python",
   "name": "python",
   "nbconvert_exporter": "python",
   "pygments_lexer": "ipython3",
   "version": "3.6.2"
  }
 },
 "nbformat": 4,
 "nbformat_minor": 4
}
