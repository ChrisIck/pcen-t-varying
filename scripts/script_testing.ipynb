{
 "cells": [
  {
   "cell_type": "code",
   "execution_count": 23,
   "metadata": {},
   "outputs": [
    {
     "name": "stdout",
     "output_type": "stream",
     "text": [
      "Featurizing Audio...\r\n"
     ]
    }
   ],
   "source": [
    "!python 01_featurize.py --jobs=4"
   ]
  },
  {
   "cell_type": "code",
   "execution_count": 63,
   "metadata": {},
   "outputs": [
    {
     "name": "stdout",
     "output_type": "stream",
     "text": [
      "Using TensorFlow backend.\n",
      "WARNING:tensorflow:From /home/ci411/.conda/envs/py3.5/lib/python3.6/site-packages/tensorflow/python/ops/resource_variable_ops.py:435: colocate_with (from tensorflow.python.framework.ops) is deprecated and will be removed in a future version.\n",
      "Instructions for updating:\n",
      "Colocations handled automatically by placer.\n",
      "2019-11-26 11:27:54.884519: I tensorflow/core/platform/cpu_feature_guard.cc:141] Your CPU supports instructions that this TensorFlow binary was not compiled to use: AVX2 FMA\n",
      "2019-11-26 11:27:54.893608: I tensorflow/core/platform/profile_utils/cpu_utils.cc:94] CPU Frequency: 2594000000 Hz\n",
      "2019-11-26 11:27:54.894064: I tensorflow/compiler/xla/service/service.cc:150] XLA service 0x44151f0 executing computations on platform Host. Devices:\n",
      "2019-11-26 11:27:54.894206: I tensorflow/compiler/xla/service/service.cc:158]   StreamExecutor device (0): <undefined>, <undefined>\n",
      "100%|████████████████████████████████████| 6000/6000 [00:00<00:00, 60241.06it/s]\n",
      "100%|███████████████████████████████████| 2000/2000 [00:00<00:00, 156186.26it/s]\n",
      "Fit model...\n",
      "WARNING:tensorflow:From /home/ci411/.conda/envs/py3.5/lib/python3.6/site-packages/tensorflow/python/ops/math_ops.py:3066: to_int32 (from tensorflow.python.ops.math_ops) is deprecated and will be removed in a future version.\n",
      "Instructions for updating:\n",
      "Use tf.cast instead.\n",
      "Epoch 1/150\n",
      "../utils.py:55: H5pyDeprecationWarning: dataset.value has been deprecated. Use dataset[()] instead.\n",
      "  data[k] = v.value\n",
      "^C\n"
     ]
    }
   ],
   "source": [
    "!python 02_train.py "
   ]
  },
  {
   "cell_type": "code",
   "execution_count": 68,
   "metadata": {},
   "outputs": [
    {
     "name": "stdout",
     "output_type": "stream",
     "text": [
      "Using TensorFlow backend.\n",
      "WARNING:tensorflow:From /home/ci411/.conda/envs/py3.5/lib/python3.6/site-packages/tensorflow/python/ops/resource_variable_ops.py:435: colocate_with (from tensorflow.python.framework.ops) is deprecated and will be removed in a future version.\n",
      "Instructions for updating:\n",
      "Colocations handled automatically by placer.\n",
      "2019-11-26 11:35:26.864754: I tensorflow/core/platform/cpu_feature_guard.cc:141] Your CPU supports instructions that this TensorFlow binary was not compiled to use: AVX2 FMA\n",
      "2019-11-26 11:35:26.871067: I tensorflow/core/platform/profile_utils/cpu_utils.cc:94] CPU Frequency: 2594000000 Hz\n",
      "2019-11-26 11:35:26.871342: I tensorflow/compiler/xla/service/service.cc:150] XLA service 0x3b3f320 executing computations on platform Host. Devices:\n",
      "2019-11-26 11:35:26.871388: I tensorflow/compiler/xla/service/service.cc:158]   StreamExecutor device (0): <undefined>, <undefined>\n",
      "../utils.py:56: H5pyDeprecationWarning: dataset.value has been deprecated. Use dataset[()] instead.\n",
      "  data[k] = v.value\n",
      "Accuracy: 0.7932638630442873\n",
      "Segment based metrics\n",
      "========================================\n",
      "  Evaluated length                  : 18162.08 sec\n",
      "  Evaluated files                   : 2000 \n",
      "  Segment length                    : 1.00 sec\n",
      "\n",
      "  Overall metrics (micro-average)\n",
      "  ======================================\n",
      "  F-measure\n",
      "    F-measure (F1)                  : 39.61 %\n",
      "    Precision                       : 34.80 %\n",
      "    Recall                          : 45.95 %\n",
      "  Error rate\n",
      "    Error rate (ER)                 : 1.03 \n",
      "    Substitution rate               : 0.37 \n",
      "    Deletion rate                   : 0.17 \n",
      "    Insertion rate                  : 0.49 \n",
      "  Accuracy\n",
      "    Sensitivity                     : 45.95 %\n",
      "    Specificity                     : 85.10 %\n",
      "    Balanced accuracy               : 65.53 %\n",
      "    Accuracy                        : 79.33 %\n",
      "\n",
      "  Class-wise average metrics (macro-average)\n",
      "  ======================================\n",
      "  F-measure\n",
      "    F-measure (F1)                  : 38.97 %\n",
      "    Precision                       : 35.80 %\n",
      "    Recall                          : 45.73 %\n",
      "  Error rate\n",
      "    Error rate (ER)                 : 1.41 \n",
      "    Deletion rate                   : 0.54 \n",
      "    Insertion rate                  : 0.87 \n",
      "  Accuracy\n",
      "    Sensitivity                     : 45.73 %\n",
      "    Specificity                     : 85.11 %\n",
      "    Balanced accuracy               : 65.42 %\n",
      "    Accuracy                        : 79.33 %\n",
      "  \n",
      "\n",
      "  Class-wise metrics\n",
      "  ======================================\n",
      "    Event label  | Nref    Nsys  | F        Pre      Rec    | ER       Del      Ins    | Sens     Spec     Bacc     Acc     \n",
      "    ------------ | -----   ----- | ------   ------   ------ | ------   ------   ------ | ------   ------   ------   ------  \n",
      "    air_condit.. | 2798    2283  | 31.2%    34.7%    28.3%  | 1.25     0.72     0.53   | 28.3%    90.7%    59.5%    81.4%   \n",
      "    car_horn     | 2328    3180  | 19.7%    17.0%    23.3%  | 1.90     0.77     1.13   | 23.3%    84.0%    53.6%    76.5%   \n",
      "    children_p.. | 2997    2438  | 29.4%    32.7%    26.6%  | 1.28     0.73     0.55   | 26.6%    89.6%    58.1%    79.6%   \n",
      "    dog_bark     | 2740    2538  | 40.2%    41.8%    38.8%  | 1.15     0.61     0.54   | 38.8%    90.8%    64.8%    83.2%   \n",
      "    drilling     | 2912    6557  | 39.1%    28.2%    63.6%  | 1.98     0.36     1.62   | 63.6%    70.4%    67.0%    69.3%   \n",
      "    engine_idl.. | 3009    2738  | 41.6%    43.7%    39.7%  | 1.11     0.60     0.51   | 39.7%    90.2%    65.0%    82.2%   \n",
      "    gun_shot     | 2385    4275  | 40.6%    31.6%    56.6%  | 1.66     0.43     1.23   | 56.6%    82.2%    69.4%    79.0%   \n",
      "    jackhammer   | 2780    3007  | 56.1%    54.0%    58.4%  | 0.91     0.42     0.50   | 58.4%    91.4%    74.9%    86.5%   \n",
      "    siren        | 2911    4115  | 46.4%    39.6%    56.0%  | 1.29     0.44     0.85   | 56.0%    84.4%    70.2%    80.0%   \n",
      "    street_music | 2889    5509  | 45.4%    34.6%    66.0%  | 1.59     0.34     1.25   | 66.0%    77.4%    71.7%    75.6%   \n",
      "\n",
      "\n",
      "Event based metrics (onset-offset)\n",
      "========================================\n",
      "  Evaluated length                  : 17851.70 sec\n",
      "  Evaluated files                   : 2000 \n",
      "  Evaluate onset                    : True \n",
      "  Evaluate offset                   : True \n",
      "  T collar                          : 200.00 ms\n",
      "  Offset (length)                   : 50.00 %\n",
      "\n",
      "  Overall metrics (micro-average)\n",
      "  ======================================\n",
      "  F-measure\n",
      "    F-measure (F1)                  : 3.69 %\n",
      "    Precision                       : 2.33 %\n",
      "    Recall                          : 8.80 %\n",
      "  Error rate\n",
      "    Error rate (ER)                 : 4.51 \n",
      "    Substitution rate               : 0.09 \n",
      "    Deletion rate                   : 0.82 \n",
      "    Insertion rate                  : 3.60 \n",
      "\n",
      "  Class-wise average metrics (macro-average)\n",
      "  ======================================\n",
      "  F-measure\n",
      "    F-measure (F1)                  : 3.40 %\n",
      "    Precision                       : 2.16 %\n",
      "    Recall                          : 8.67 %\n",
      "  Error rate\n",
      "    Error rate (ER)                 : 4.59 \n",
      "    Deletion rate                   : 0.91 \n",
      "    Insertion rate                  : 3.68 \n",
      "  \n",
      "\n",
      "  Class-wise metrics\n",
      "  ======================================\n",
      "    Event label  | Nref    Nsys  | F        Pre      Rec    | ER       Del      Ins    |\n",
      "    ------------ | -----   ----- | ------   ------   ------ | ------   ------   ------ |\n",
      "    air_condit.. | 838     2054  | 0.7%     0.5%     1.2%   | 3.43     0.99     2.44   |\n",
      "    car_horn     | 934     2947  | 6.2%     4.1%     13.0%  | 3.90     0.87     3.03   |\n",
      "    children_p.. | 861     2224  | 0.6%     0.4%     1.2%   | 3.56     0.99     2.57   |\n",
      "    dog_bark     | 874     2193  | 4.3%     3.0%     7.6%   | 3.36     0.92     2.43   |\n",
      "    drilling     | 892     5813  | 5.2%     3.0%     19.6%  | 7.12     0.80     6.32   |\n",
      "    engine_idl.. | 858     2479  | 1.5%     1.0%     2.9%   | 3.83     0.97     2.86   |\n",
      "    gun_shot     | 895     3788  | 6.3%     3.9%     16.4%  | 4.90     0.84     4.07   |\n",
      "    jackhammer   | 832     2670  | 3.0%     1.9%     6.2%   | 4.08     0.94     3.15   |\n",
      "    siren        | 849     3667  | 2.9%     1.8%     7.7%   | 5.17     0.92     4.24   |\n",
      "    street_music | 847     4917  | 3.2%     1.9%     11.0%  | 6.59     0.89     5.70   |\n",
      "\n",
      "\n",
      "Done!\n"
     ]
    }
   ],
   "source": [
    "!python 03_evaluate.py --model-id='model00'"
   ]
  }
 ],
 "metadata": {
  "kernelspec": {
   "display_name": "Python 3",
   "language": "python",
   "name": "python3"
  },
  "language_info": {
   "codemirror_mode": {
    "name": "ipython",
    "version": 3
   },
   "file_extension": ".py",
   "mimetype": "text/x-python",
   "name": "python",
   "nbconvert_exporter": "python",
   "pygments_lexer": "ipython3",
   "version": "3.6.2"
  }
 },
 "nbformat": 4,
 "nbformat_minor": 2
}
