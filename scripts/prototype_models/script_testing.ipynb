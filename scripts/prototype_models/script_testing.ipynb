{
 "cells": [
  {
   "cell_type": "code",
   "execution_count": null,
   "metadata": {},
   "outputs": [
    {
     "name": "stdout",
     "output_type": "stream",
     "text": [
      "Using TensorFlow backend.\n",
      "/beegfs/ci411/pcen/pumps/test/pump.pkl\n",
      "2020-01-21 14:48:59.272796: W tensorflow/stream_executor/platform/default/dso_loader.cc:55] Could not load dynamic library 'libcuda.so.1'; dlerror: libcuda.so.1: cannot open shared object file: No such file or directory; LD_LIBRARY_PATH: /share/apps/ffmpeg/3.2.2/intel/lib:/share/apps/zlib/1.2.8/intel/lib:/share/apps/intel/17.0.1/mkl/lib/intel64:/share/apps/intel/17.0.1/lib/intel64:/share/apps/numactl/2.0.11/gnu/lib:/share/apps/anaconda3/4.3.1/lib:/share/apps/centos/7/usr/lib64:/opt/slurm/lib64\n",
      "2020-01-21 14:48:59.272847: E tensorflow/stream_executor/cuda/cuda_driver.cc:318] failed call to cuInit: UNKNOWN ERROR (303)\n",
      "2020-01-21 14:48:59.272872: I tensorflow/stream_executor/cuda/cuda_diagnostics.cc:156] kernel driver does not appear to be running on this host (c21-03): /proc/driver/nvidia/version does not exist\n",
      "2020-01-21 14:48:59.273073: I tensorflow/core/platform/cpu_feature_guard.cc:142] Your CPU supports instructions that this TensorFlow binary was not compiled to use: AVX2 FMA\n",
      "2020-01-21 14:48:59.280684: I tensorflow/core/platform/profile_utils/cpu_utils.cc:94] CPU Frequency: 2593960000 Hz\n",
      "2020-01-21 14:48:59.280897: I tensorflow/compiler/xla/service/service.cc:168] XLA service 0x5a67a60 executing computations on platform Host. Devices:\n",
      "2020-01-21 14:48:59.280927: I tensorflow/compiler/xla/service/service.cc:175]   StreamExecutor device (0): Host, Default Version\n",
      "100%|████████████████████████████████████| 6000/6000 [00:00<00:00, 49092.84it/s]\n",
      "100%|███████████████████████████████████| 2000/2000 [00:00<00:00, 182603.19it/s]\n",
      "Fit model...\n",
      "Epoch 1/150\n",
      "/home/ci411/pcen-t-varying/pcen_t/utils.py:63: H5pyDeprecationWarning: dataset.value has been deprecated. Use dataset[()] instead.\n",
      "  data[k] = v.value\n",
      " - 184s - loss: 0.3116 - accuracy: 0.8818 - val_loss: 0.2376 - val_accuracy: 0.8748\n",
      "/home/ci411/.conda/envs/py3.5/lib/python3.6/site-packages/keras/callbacks/callbacks.py:707: RuntimeWarning: Can save best model only with val_dynamic/tags_acc available, skipping.\n",
      "  'skipping.' % (self.monitor), RuntimeWarning)\n",
      "/home/ci411/.conda/envs/py3.5/lib/python3.6/site-packages/keras/callbacks/callbacks.py:1042: RuntimeWarning: Reduce LR on plateau conditioned on metric `val_dynamic/tags_acc` which is not available. Available metrics are: val_loss,val_accuracy,loss,accuracy,lr\n",
      "  (self.monitor, ','.join(list(logs.keys()))), RuntimeWarning\n",
      "/home/ci411/.conda/envs/py3.5/lib/python3.6/site-packages/keras/callbacks/callbacks.py:846: RuntimeWarning: Early stopping conditioned on metric `val_dynamic/tags_acc` which is not available. Available metrics are: val_loss,val_accuracy,loss,accuracy,lr\n",
      "  (self.monitor, ','.join(list(logs.keys()))), RuntimeWarning\n",
      "Epoch 2/150\n",
      " - 174s - loss: 0.2050 - accuracy: 0.9242 - val_loss: 0.2894 - val_accuracy: 0.8935\n",
      "Epoch 3/150\n",
      " - 178s - loss: 0.1844 - accuracy: 0.9336 - val_loss: 0.1296 - val_accuracy: 0.8931\n",
      "Epoch 4/150\n",
      " - 177s - loss: 0.1628 - accuracy: 0.9435 - val_loss: 0.1746 - val_accuracy: 0.8966\n",
      "Epoch 5/150\n",
      " - 177s - loss: 0.1606 - accuracy: 0.9446 - val_loss: 0.1573 - val_accuracy: 0.8931\n",
      "Epoch 6/150\n",
      " - 177s - loss: 0.1460 - accuracy: 0.9503 - val_loss: 0.0433 - val_accuracy: 0.8918\n",
      "Epoch 7/150\n",
      " - 177s - loss: 0.1329 - accuracy: 0.9557 - val_loss: 0.1142 - val_accuracy: 0.8934\n",
      "Epoch 8/150\n",
      " - 177s - loss: 0.1336 - accuracy: 0.9560 - val_loss: 0.4702 - val_accuracy: 0.9004\n",
      "Epoch 9/150\n",
      " - 177s - loss: 0.1259 - accuracy: 0.9598 - val_loss: 0.3256 - val_accuracy: 0.8984\n",
      "Epoch 10/150\n"
     ]
    }
   ],
   "source": [
    "!python 02_train.py"
   ]
  },
  {
   "cell_type": "code",
   "execution_count": 12,
   "metadata": {},
   "outputs": [
    {
     "name": "stdout",
     "output_type": "stream",
     "text": [
      "Using TensorFlow backend.\n",
      "Traceback (most recent call last):\n",
      "  File \"03_evaluate.py\", line 125, in <module>\n",
      "    with open(modelyamlfile, 'r') as yaml_file:\n",
      "FileNotFoundError: [Errno 2] No such file or directory: '/beegfs/ci411/pcen/models/model_test/model.yaml'\n"
     ]
    }
   ],
   "source": [
    "!python 03_evaluate.py"
   ]
  },
  {
   "cell_type": "code",
   "execution_count": null,
   "metadata": {
    "collapsed": true
   },
   "outputs": [],
   "source": []
  }
 ],
 "metadata": {
  "kernelspec": {
   "display_name": "Python 3",
   "language": "python",
   "name": "python3"
  },
  "language_info": {
   "codemirror_mode": {
    "name": "ipython",
    "version": 3
   },
   "file_extension": ".py",
   "mimetype": "text/x-python",
   "name": "python",
   "nbconvert_exporter": "python",
   "pygments_lexer": "ipython3",
   "version": "3.6.2"
  }
 },
 "nbformat": 4,
 "nbformat_minor": 2
}
